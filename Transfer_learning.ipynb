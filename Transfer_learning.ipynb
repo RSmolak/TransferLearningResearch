{
  "cells": [
    {
      "cell_type": "markdown",
      "metadata": {
        "id": "6BqoJqt63fXb"
      },
      "source": [
        "#### Importowanie modułów"
      ]
    },
    {
      "cell_type": "code",
      "execution_count": null,
      "metadata": {
        "colab": {
          "base_uri": "https://localhost:8080/"
        },
        "id": "zybvtyM2UA74",
        "outputId": "fd00d2fb-bbec-40a0-f615-df89591a415e"
      },
      "outputs": [
        {
          "output_type": "stream",
          "name": "stdout",
          "text": [
            "/content/drive/.shortcut-targets-by-id/1M_VE3u0mnp0u2a22HSNvc9oHa5NiI5w9/dataset/dogs-vs-cats\n",
            "rm: cannot remove 'Dog/11702.jpg': No such file or directory\n"
          ]
        }
      ],
      "source": [
        "%cd /content/drive/MyDrive/glebokie/dataset/dogs-vs-cats\n",
        "!rm Dog/11702.jpg"
      ]
    },
    {
      "cell_type": "code",
      "execution_count": null,
      "metadata": {
        "colab": {
          "base_uri": "https://localhost:8080/"
        },
        "id": "1jkZRXj1N7XO",
        "outputId": "0ec9ed26-e5c5-4dea-ca78-a4f8e76b620e"
      },
      "outputs": [
        {
          "output_type": "stream",
          "name": "stdout",
          "text": [
            "Drive already mounted at /content/drive; to attempt to forcibly remount, call drive.mount(\"/content/drive\", force_remount=True).\n",
            "\u001b[0m\u001b[01;34mCat\u001b[0m/  \u001b[01;34mDog\u001b[0m/\n",
            "/content/drive/.shortcut-targets-by-id/1M_VE3u0mnp0u2a22HSNvc9oHa5NiI5w9/dataset\n"
          ]
        }
      ],
      "source": [
        "from google.colab import drive\n",
        "drive.mount('/content/drive')\n",
        "\n",
        "%ls\n",
        "%cd /content/drive/MyDrive/glebokie/dataset\n",
        "\n",
        "# !unrar x data.rar"
      ]
    },
    {
      "cell_type": "code",
      "execution_count": null,
      "metadata": {
        "id": "oPuhpcGG3fXd"
      },
      "outputs": [],
      "source": [
        "# !pip install --upgrade torch\n",
        "\n",
        "import torch\n",
        "import torch.nn as nn\n",
        "import torch.optim as optim\n",
        "from torch.utils.data import DataLoader, TensorDataset\n",
        "from torchvision import models, transforms, datasets\n",
        "from torchvision.models import EfficientNet_B0_Weights\n",
        "from tqdm import tqdm\n",
        "\n",
        "import pandas as pd\n",
        "import numpy as np\n",
        "import matplotlib.pyplot as plt"
      ]
    },
    {
      "cell_type": "markdown",
      "metadata": {
        "id": "6ojOHy-H3fXg"
      },
      "source": [
        "#### Zbiory danych, modele, metody TL, hiperparametry"
      ]
    },
    {
      "cell_type": "code",
      "execution_count": null,
      "metadata": {
        "id": "ru43eA6c3fXg"
      },
      "outputs": [],
      "source": [
        "from torchvision.models import efficientnet_b0, EfficientNet_B0_Weights\n",
        "from torchvision.models._api import WeightsEnum\n",
        "from torch.hub import load_state_dict_from_url\n",
        "\n",
        "\n",
        "# This is needed for efficient net to work for some reason\n",
        "def get_state_dict(self, *args, **kwargs):\n",
        "    kwargs.pop(\"check_hash\")\n",
        "    return load_state_dict_from_url(self.url, *args, **kwargs)\n",
        "WeightsEnum.get_state_dict = get_state_dict\n",
        "\n",
        "# efficientnet_b0(weights=EfficientNet_B0_Weights.IMAGENET1K_V1)\n",
        "# efficientnet_b0(weights=\"DEFAULT\")\n",
        "\n",
        "DATASETS = [\n",
        "    #'CIFAR10',\n",
        "    'dogs-vs-cats',\n",
        "    'hats-vs-nohats'\n",
        "]\n",
        "MODELS = [\n",
        "    #models.alexnet(pretrained=True),\n",
        "    models.vgg16(pretrained=True),\n",
        "    models.resnet50(pretrained=True),\n",
        "    models.efficientnet_b0(pretrained=True)\n",
        "]\n",
        "TL_METHODS = [\n",
        "    #'no_freezing',\n",
        "    'classic_tl',\n",
        "    'fine_tuning',\n",
        "    #'our_method'\n",
        "]\n",
        "\n",
        "# Hyperparmeters\n",
        "EPOCHS = 15             # The final number of epochs is twice as big. Learning is split into two phases of EPOCHS size.\n",
        "BATCH_SIZE = 64"
      ]
    },
    {
      "cell_type": "markdown",
      "metadata": {
        "id": "qfphqig53fXg"
      },
      "source": [
        "#### Utworzenie Data setów i data loaderów"
      ]
    },
    {
      "cell_type": "code",
      "execution_count": null,
      "metadata": {
        "id": "KOEt0VgX3fXg"
      },
      "outputs": [],
      "source": [
        "def create_datasets_and_dataloaders(dataset_name: str, model):\n",
        "\n",
        "    if isinstance(model, models.AlexNet) or isinstance(model, models.VGG) or isinstance(model, models.ResNet) or isinstance(model,models.EfficientNet):\n",
        "        base_transforms = [\n",
        "            transforms.Resize(256),\n",
        "            transforms.CenterCrop(224),\n",
        "            transforms.ToTensor(),\n",
        "            transforms.Normalize(mean=[0.485, 0.456, 0.406], std=[0.229, 0.224, 0.225])\n",
        "        ]\n",
        "    else:\n",
        "        base_transforms = [\n",
        "            transforms.Resize(256),\n",
        "            transforms.CenterCrop(224),\n",
        "            transforms.ToTensor(),\n",
        "            transforms.Normalize(mean=[0.485, 0.456, 0.406], std=[0.229, 0.224, 0.225])\n",
        "        ]\n",
        "\n",
        "    train_transform = transforms.Compose(base_transforms)\n",
        "    test_transform = transforms.Compose(base_transforms)\n",
        "\n",
        "    preprocessing = [\n",
        "        # transforms.RandomResizedCrop(224),\n",
        "        # transforms.RandomHorizontalFlip(0.5),\n",
        "        # transforms.ColorJitter(brightness=0.1, contrast=0.1, saturation=0.1, hue=0.1)\n",
        "    ]\n",
        "\n",
        "    train_transform.transforms.extend(preprocessing)\n",
        "\n",
        "    train_set, test_set, train_loader, test_loader = 0, 0, 0, 0\n",
        "\n",
        "    if dataset_name == 'CIFAR10':\n",
        "        train_set = datasets.CIFAR10(root='./data', train=True, download=True, transform=train_transform)\n",
        "        train_loader = DataLoader(train_set, batch_size=BATCH_SIZE, shuffle=True, num_workers = 16)\n",
        "\n",
        "        classes = train_set.classes\n",
        "        test_set = datasets.CIFAR10(root='./data', train=False, download=True, transform=test_transform)\n",
        "        test_loader = DataLoader(test_set, batch_size=BATCH_SIZE, shuffle=False, num_workers = 16)\n",
        "        print(\"Loaders created\")\n",
        "\n",
        "    elif dataset_name in ['dogs-vs-cats', 'hats-vs-nohats']:\n",
        "        train_dataset_full = datasets.ImageFolder(root=f'/content/drive/MyDrive/glebokie/dataset/{dataset_name}', transform=train_transform)\n",
        "        test_dataset_temp = datasets.ImageFolder(root=f'/content/drive/MyDrive/glebokie/dataset/{dataset_name}', transform=test_transform)\n",
        "\n",
        "        classes = train_dataset_full.classes\n",
        "        total_size = len(train_dataset_full)\n",
        "        train_size = int(0.8 * total_size)\n",
        "        validation_size = total_size - train_size\n",
        "        train_set, validation_set = torch.utils.data.random_split(train_dataset_full, [train_size, validation_size])\n",
        "\n",
        "        test_set = torch.utils.data.Subset(test_dataset_temp, [i for i in range(total_size) if i not in train_set.indices])\n",
        "\n",
        "        train_loader = torch.utils.data.DataLoader(train_set, batch_size=BATCH_SIZE, shuffle=True, num_workers = 16)\n",
        "        test_loader = torch.utils.data.DataLoader(test_set, batch_size=BATCH_SIZE, shuffle=False, num_workers = 16)\n",
        "        print(\"Loaders created\")\n",
        "\n",
        "\n",
        "    return classes, train_loader, test_loader"
      ]
    },
    {
      "cell_type": "markdown",
      "metadata": {
        "id": "j6L1uP_4Xov_"
      },
      "source": [
        "#### Funkcja mrożąca do naszej metody"
      ]
    },
    {
      "cell_type": "code",
      "execution_count": null,
      "metadata": {
        "id": "OVelqmTJXt01"
      },
      "outputs": [],
      "source": [
        "def freeze_percentage(model, percentage):\n",
        "    \"\"\"Freeze a percentage of the model's parameters based on gradient norms.\"\"\"\n",
        "\n",
        "    # criterion =\n",
        "    # loss =\n",
        "    # model.zero_grad()\n",
        "    # loss.backward()\n",
        "\n",
        "    grad_params = [(param.grad.norm(), param) for param in model.parameters() if param.requires_grad and param.grad is not None]\n",
        "    print(grad_params)\n",
        "    grad_params.sort(key=lambda x: x[0])\n",
        "    num_params_to_freeze = int(percentage * len(grad_params))\n",
        "    print(\"Parameters to freeze:\", num_params_to_freeze)\n",
        "    print(\"Freezing parameters:\", len(grad_params[:num_params_to_freeze]))\n",
        "    for _, param in grad_params[:num_params_to_freeze]:\n",
        "        param.requires_grad = False\n",
        "    model.zero_grad()"
      ]
    },
    {
      "cell_type": "markdown",
      "metadata": {
        "id": "ls-XApyR3fXh"
      },
      "source": [
        "#### Przetwarzanie modeli do transfer learningu"
      ]
    },
    {
      "cell_type": "code",
      "execution_count": null,
      "metadata": {
        "id": "lIdF--k33fXh"
      },
      "outputs": [],
      "source": [
        "def apply_transfer_learning(model, tl_method):\n",
        "    if tl_method == 'classic_tl' or tl_method == 'fine_tuning':\n",
        "        for param in model.parameters():\n",
        "            param.requires_grad = False\n",
        "\n",
        "        if isinstance(model, models.AlexNet) or isinstance(model, models.VGG) or isinstance(model, models.EfficientNet):\n",
        "            for param in model.classifier.parameters():\n",
        "                param.requires_grad = True\n",
        "        elif isinstance(model, models.ResNet):\n",
        "            for param in model.fc.parameters():\n",
        "                param.requires_grad = True\n",
        "\n",
        "    elif tl_method == 'no_freezing':\n",
        "        for param in model.parameters():\n",
        "            param.requires_grad = True\n",
        "\n",
        "    # elif tl_method == 'our_method':\n",
        "    #     freeze_percentage(model,90)\n",
        "\n",
        "\n",
        "def customize_model(model, num_classes, tl_method):\n",
        "    if isinstance(model, models.AlexNet):\n",
        "        dropout = 0.5\n",
        "        model.classifier = nn.Sequential(\n",
        "            nn.Dropout(p=dropout),\n",
        "            nn.Linear(256 * 6 * 6, 4096),\n",
        "            nn.ReLU(inplace=True),\n",
        "            nn.Dropout(p=dropout),\n",
        "            nn.Linear(4096, 4096),\n",
        "            nn.ReLU(inplace=True),\n",
        "            nn.Linear(4096, num_classes),\n",
        "        )\n",
        "\n",
        "    elif isinstance(model, models.VGG):\n",
        "        dropout = 0.5\n",
        "        model.classifier = nn.Sequential(\n",
        "            nn.Linear(512 * 7 * 7, 4096),\n",
        "            nn.ReLU(True),\n",
        "            nn.Dropout(p=dropout),\n",
        "            nn.Linear(4096, 4096),\n",
        "            nn.ReLU(True),\n",
        "            nn.Dropout(p=dropout),\n",
        "            nn.Linear(4096, num_classes),\n",
        "        )\n",
        "\n",
        "    elif isinstance(model, models.ResNet):\n",
        "        num_ftrs = model.fc.in_features\n",
        "        model.fc = nn.Linear(num_ftrs, num_classes)\n",
        "\n",
        "    elif isinstance(model, models.EfficientNet):\n",
        "        model.classifier[1] = nn.Linear(in_features=1280, out_features=num_classes)\n",
        "\n",
        "    print(\"Classifier for model has been changed.\")\n",
        "    apply_transfer_learning(model, tl_method)\n",
        "    print(\"Transfer learning method:\", tl_method, \"applied.\")\n",
        "\n",
        "    return model"
      ]
    },
    {
      "cell_type": "markdown",
      "metadata": {
        "id": "IHViD-nN3fXj"
      },
      "source": [
        "#### Ustawienia fine-tuningu"
      ]
    },
    {
      "cell_type": "code",
      "execution_count": null,
      "metadata": {
        "id": "0xU1imTS3fXj"
      },
      "outputs": [],
      "source": [
        "def adjust_fine_tuning(model, optimizer):\n",
        "    \"\"\"Adjust the model and optimizer for fine-tuning.\"\"\"\n",
        "    for param in model.parameters():\n",
        "        param.requires_grad = True\n",
        "    for param_group in optimizer.param_groups:\n",
        "        param_group['lr'] = 0.0001"
      ]
    },
    {
      "cell_type": "markdown",
      "metadata": {
        "id": "2o5jjSfy1VY7"
      },
      "source": [
        "#### Zlicz zamrożone neurony"
      ]
    },
    {
      "cell_type": "code",
      "execution_count": null,
      "metadata": {
        "id": "xj-BreGs1Sgz"
      },
      "outputs": [],
      "source": [
        "def print_number_of_frozen_params(model):\n",
        "    frozen_params = 0\n",
        "    unfrozen_params = 0\n",
        "    for param in model.parameters():\n",
        "        if param.requires_grad:\n",
        "            unfrozen_params += param.numel()\n",
        "        else:\n",
        "            frozen_params += param.numel()\n",
        "    print(f\"Liczba zamrożonych parametrów: {frozen_params}\")\n",
        "    print(f\"Liczba niezamrożonych parametrów: {unfrozen_params}\")"
      ]
    },
    {
      "cell_type": "markdown",
      "metadata": {
        "id": "CdtsGKGd6R2G"
      },
      "source": [
        "#### Wykresy i tabele"
      ]
    },
    {
      "cell_type": "code",
      "execution_count": null,
      "metadata": {
        "id": "aMcT_3Vx6Q6k"
      },
      "outputs": [],
      "source": [
        "import matplotlib.pyplot as plt\n",
        "from prettytable import PrettyTable\n",
        "\n",
        "def plot_and_save_figures(history, dataset, tl_method, model, save_path):\n",
        "    plt.figure(figsize=(12, 4))\n",
        "    plt.suptitle(f\"{dataset} - {tl_method} - {model.__class__.__name__}\")\n",
        "\n",
        "    # Plotting training and validation loss\n",
        "    plt.subplot(1, 2, 1)\n",
        "    plt.plot(history['train_loss'], label='Train Loss')\n",
        "    plt.plot(history['val_loss'], label='Validation Loss')\n",
        "    plt.title('Training and Validation Loss')\n",
        "    plt.xlabel('Epochs')\n",
        "    plt.ylabel('Loss')\n",
        "    plt.legend()\n",
        "\n",
        "    # Plotting training and validation accuracy\n",
        "    plt.subplot(1, 2, 2)\n",
        "    plt.plot(history['train_accuracy'], label='Train Accuracy')\n",
        "    plt.plot(history['val_accuracy'], label='Validation Accuracy')\n",
        "    plt.title('Training and Validation Accuracy')\n",
        "    plt.xlabel('Epochs')\n",
        "    plt.ylabel('Accuracy')\n",
        "    plt.legend()\n",
        "\n",
        "    plt.savefig(save_path, bbox_inches='tight')\n",
        "    plt.close()\n",
        "\n",
        "def add_row_to_table_and_save(table, dataset, tl_method, model, history, file_path):\n",
        "    last_epoch = len(history['train_loss'])\n",
        "    train_loss = history['train_loss'][last_epoch - 1]\n",
        "    val_loss = history['val_loss'][last_epoch - 1]\n",
        "    train_accuracy = history['train_accuracy'][last_epoch - 1]\n",
        "    val_accuracy = history['val_accuracy'][last_epoch - 1]\n",
        "\n",
        "    table.add_row([dataset, tl_method, model.__class__.__name__, train_loss, val_loss, train_accuracy, val_accuracy])\n",
        "\n",
        "    table_text = table.get_string()\n",
        "    with open(file_path, \"w\") as file:\n",
        "        file.write(table_text)\n"
      ]
    },
    {
      "cell_type": "markdown",
      "metadata": {
        "id": "qi9Jmucx3fXj"
      },
      "source": [
        "#### Pętla treningowo walidacyjna"
      ]
    },
    {
      "cell_type": "code",
      "execution_count": null,
      "metadata": {
        "colab": {
          "base_uri": "https://localhost:8080/"
        },
        "id": "heGXoB-w3fXj",
        "outputId": "6bf71423-eb31-4b52-b0ca-5f0593bfd80e"
      },
      "outputs": [
        {
          "output_type": "stream",
          "name": "stdout",
          "text": [
            "Using: cuda\n",
            "Using the dogs-vs-cats dataset.\n",
            "Using the classic_tl method\n",
            "Skipping redundancy\n",
            "Skipping redundancy\n"
          ]
        },
        {
          "output_type": "stream",
          "name": "stderr",
          "text": [
            "/usr/local/lib/python3.10/dist-packages/torch/utils/data/dataloader.py:557: UserWarning: This DataLoader will create 16 worker processes in total. Our suggested max number of worker in current system is 2, which is smaller than what this DataLoader is going to create. Please be aware that excessive worker creation might get DataLoader running slow or even freeze, lower the worker number to avoid potential slowness/freeze if necessary.\n",
            "  warnings.warn(_create_warning_msg(\n"
          ]
        },
        {
          "output_type": "stream",
          "name": "stdout",
          "text": [
            "Loaders created\n",
            "Using the EfficientNet model\n",
            "Classifier for model has been changed.\n",
            "Transfer learning method: classic_tl applied.\n",
            "Training starts\n",
            "Liczba zamrożonych parametrów: 4007548\n",
            "Liczba niezamrożonych parametrów: 2562\n"
          ]
        },
        {
          "output_type": "stream",
          "name": "stderr",
          "text": [
            "Epoch 1:  66%|██████▋   | 208/313 [03:54<00:16,  6.42it/s, loss=0.0809]/usr/local/lib/python3.10/dist-packages/PIL/TiffImagePlugin.py:858: UserWarning: Truncated File Read\n",
            "  warnings.warn(str(msg))\n",
            "Epoch 1: 100%|██████████| 313/313 [04:34<00:00,  1.14it/s, loss=0.216]\n"
          ]
        },
        {
          "output_type": "stream",
          "name": "stdout",
          "text": [
            "Train Loss: 0.17595551603327925, Validation Loss: 0.0952476175572676, Accuracy: 96.4%\n"
          ]
        },
        {
          "output_type": "stream",
          "name": "stderr",
          "text": [
            "Epoch 2:  11%|█         | 33/313 [00:20<05:48,  1.24s/it, loss=0.0949]/usr/local/lib/python3.10/dist-packages/PIL/TiffImagePlugin.py:858: UserWarning: Truncated File Read\n",
            "  warnings.warn(str(msg))\n",
            "Epoch 2: 100%|██████████| 313/313 [02:11<00:00,  2.37it/s, loss=0.0555]\n"
          ]
        },
        {
          "output_type": "stream",
          "name": "stdout",
          "text": [
            "Train Loss: 0.11279976610748912, Validation Loss: 0.08523201579345932, Accuracy: 96.74%\n"
          ]
        },
        {
          "output_type": "stream",
          "name": "stderr",
          "text": [
            "Epoch 3:  82%|████████▏ | 257/313 [01:52<01:06,  1.18s/it, loss=0.107]/usr/local/lib/python3.10/dist-packages/PIL/TiffImagePlugin.py:858: UserWarning: Truncated File Read\n",
            "  warnings.warn(str(msg))\n",
            "Epoch 3: 100%|██████████| 313/313 [02:10<00:00,  2.39it/s, loss=0.122]\n"
          ]
        },
        {
          "output_type": "stream",
          "name": "stdout",
          "text": [
            "Train Loss: 0.10454642759582486, Validation Loss: 0.08410514878179831, Accuracy: 96.66%\n"
          ]
        },
        {
          "output_type": "stream",
          "name": "stderr",
          "text": [
            "Epoch 4:  25%|██▍       | 78/313 [00:39<00:37,  6.19it/s, loss=0.204]/usr/local/lib/python3.10/dist-packages/PIL/TiffImagePlugin.py:858: UserWarning: Truncated File Read\n",
            "  warnings.warn(str(msg))\n",
            "Epoch 4: 100%|██████████| 313/313 [02:11<00:00,  2.38it/s, loss=0.124]\n"
          ]
        },
        {
          "output_type": "stream",
          "name": "stdout",
          "text": [
            "Train Loss: 0.0975855160980655, Validation Loss: 0.08169572051803145, Accuracy: 96.74%\n"
          ]
        },
        {
          "output_type": "stream",
          "name": "stderr",
          "text": [
            "Epoch 5:  67%|██████▋   | 210/313 [01:30<00:53,  1.91it/s, loss=0.148]/usr/local/lib/python3.10/dist-packages/PIL/TiffImagePlugin.py:858: UserWarning: Truncated File Read\n",
            "  warnings.warn(str(msg))\n",
            "Epoch 5: 100%|██████████| 313/313 [02:10<00:00,  2.40it/s, loss=0.185]\n"
          ]
        },
        {
          "output_type": "stream",
          "name": "stdout",
          "text": [
            "Train Loss: 0.09622939058338491, Validation Loss: 0.07924134022544456, Accuracy: 96.82%\n"
          ]
        },
        {
          "output_type": "stream",
          "name": "stderr",
          "text": [
            "Epoch 6:  75%|███████▌  | 236/313 [01:41<00:15,  4.99it/s, loss=0.122]/usr/local/lib/python3.10/dist-packages/PIL/TiffImagePlugin.py:858: UserWarning: Truncated File Read\n",
            "  warnings.warn(str(msg))\n",
            "Epoch 6: 100%|██████████| 313/313 [02:11<00:00,  2.38it/s, loss=0.193]\n"
          ]
        },
        {
          "output_type": "stream",
          "name": "stdout",
          "text": [
            "Train Loss: 0.09656987003029917, Validation Loss: 0.07829435177949033, Accuracy: 96.82%\n"
          ]
        },
        {
          "output_type": "stream",
          "name": "stderr",
          "text": [
            "Epoch 7:  77%|███████▋  | 240/313 [01:44<00:13,  5.29it/s, loss=0.106]/usr/local/lib/python3.10/dist-packages/PIL/TiffImagePlugin.py:858: UserWarning: Truncated File Read\n",
            "  warnings.warn(str(msg))\n",
            "Epoch 7: 100%|██████████| 313/313 [02:14<00:00,  2.32it/s, loss=0.0146]\n"
          ]
        },
        {
          "output_type": "stream",
          "name": "stdout",
          "text": [
            "Train Loss: 0.09293573327695791, Validation Loss: 0.07622791032153595, Accuracy: 96.82%\n"
          ]
        },
        {
          "output_type": "stream",
          "name": "stderr",
          "text": [
            "Epoch 8:  46%|████▌     | 144/313 [01:06<00:23,  7.28it/s, loss=0.0465]/usr/local/lib/python3.10/dist-packages/PIL/TiffImagePlugin.py:858: UserWarning: Truncated File Read\n",
            "  warnings.warn(str(msg))\n",
            "Epoch 8: 100%|██████████| 313/313 [02:14<00:00,  2.32it/s, loss=0.034]\n"
          ]
        },
        {
          "output_type": "stream",
          "name": "stdout",
          "text": [
            "Train Loss: 0.09666467506212358, Validation Loss: 0.0787900079312864, Accuracy: 96.7%\n"
          ]
        },
        {
          "output_type": "stream",
          "name": "stderr",
          "text": [
            "Epoch 9:  87%|████████▋ | 272/313 [01:59<00:10,  3.83it/s, loss=0.112]/usr/local/lib/python3.10/dist-packages/PIL/TiffImagePlugin.py:858: UserWarning: Truncated File Read\n",
            "  warnings.warn(str(msg))\n",
            "Epoch 9: 100%|██████████| 313/313 [02:14<00:00,  2.32it/s, loss=0.213]\n"
          ]
        },
        {
          "output_type": "stream",
          "name": "stdout",
          "text": [
            "Train Loss: 0.09516845336451699, Validation Loss: 0.07841282998082004, Accuracy: 96.7%\n"
          ]
        },
        {
          "output_type": "stream",
          "name": "stderr",
          "text": [
            "Epoch 10:  15%|█▌        | 48/313 [00:24<00:36,  7.36it/s, loss=0.11]/usr/local/lib/python3.10/dist-packages/PIL/TiffImagePlugin.py:858: UserWarning: Truncated File Read\n",
            "  warnings.warn(str(msg))\n",
            "Epoch 10: 100%|██████████| 313/313 [02:12<00:00,  2.36it/s, loss=0.0145]\n"
          ]
        },
        {
          "output_type": "stream",
          "name": "stdout",
          "text": [
            "Train Loss: 0.09329052218875755, Validation Loss: 0.0782073973736997, Accuracy: 96.8%\n"
          ]
        },
        {
          "output_type": "stream",
          "name": "stderr",
          "text": [
            "Epoch 11:  83%|████████▎ | 261/313 [01:58<00:22,  2.32it/s, loss=0.0383]/usr/local/lib/python3.10/dist-packages/PIL/TiffImagePlugin.py:858: UserWarning: Truncated File Read\n",
            "  warnings.warn(str(msg))\n",
            "Epoch 11: 100%|██████████| 313/313 [02:16<00:00,  2.29it/s, loss=0.137]\n"
          ]
        },
        {
          "output_type": "stream",
          "name": "stdout",
          "text": [
            "Train Loss: 0.09382360970702605, Validation Loss: 0.07770354367934074, Accuracy: 96.92%\n"
          ]
        },
        {
          "output_type": "stream",
          "name": "stderr",
          "text": [
            "Epoch 12:  26%|██▌       | 80/313 [00:39<00:38,  6.04it/s, loss=0.24]/usr/local/lib/python3.10/dist-packages/PIL/TiffImagePlugin.py:858: UserWarning: Truncated File Read\n",
            "  warnings.warn(str(msg))\n",
            "Epoch 12: 100%|██████████| 313/313 [02:16<00:00,  2.29it/s, loss=0.0639]\n"
          ]
        },
        {
          "output_type": "stream",
          "name": "stdout",
          "text": [
            "Train Loss: 0.09468774202639779, Validation Loss: 0.08667626560818922, Accuracy: 96.46%\n"
          ]
        },
        {
          "output_type": "stream",
          "name": "stderr",
          "text": [
            "Epoch 13:  72%|███████▏  | 224/313 [01:39<00:13,  6.61it/s, loss=0.146]/usr/local/lib/python3.10/dist-packages/PIL/TiffImagePlugin.py:858: UserWarning: Truncated File Read\n",
            "  warnings.warn(str(msg))\n",
            "Epoch 13: 100%|██████████| 313/313 [02:16<00:00,  2.29it/s, loss=0.149]\n"
          ]
        },
        {
          "output_type": "stream",
          "name": "stdout",
          "text": [
            "Train Loss: 0.0910046522597821, Validation Loss: 0.07770697092283753, Accuracy: 96.9%\n"
          ]
        },
        {
          "output_type": "stream",
          "name": "stderr",
          "text": [
            "Epoch 14:  34%|███▍      | 106/313 [00:53<01:04,  3.21it/s, loss=0.0789]/usr/local/lib/python3.10/dist-packages/PIL/TiffImagePlugin.py:858: UserWarning: Truncated File Read\n",
            "  warnings.warn(str(msg))\n",
            "Epoch 14: 100%|██████████| 313/313 [02:18<00:00,  2.27it/s, loss=0.164]\n"
          ]
        },
        {
          "output_type": "stream",
          "name": "stdout",
          "text": [
            "Train Loss: 0.09355414815294666, Validation Loss: 0.07743679436183051, Accuracy: 97.0%\n"
          ]
        },
        {
          "output_type": "stream",
          "name": "stderr",
          "text": [
            "Epoch 15:  41%|████      | 128/313 [00:59<00:27,  6.83it/s, loss=0.0698]/usr/local/lib/python3.10/dist-packages/PIL/TiffImagePlugin.py:858: UserWarning: Truncated File Read\n",
            "  warnings.warn(str(msg))\n",
            "Epoch 15: 100%|██████████| 313/313 [02:16<00:00,  2.29it/s, loss=0.0291]\n"
          ]
        },
        {
          "output_type": "stream",
          "name": "stdout",
          "text": [
            "Train Loss: 0.09328347174361491, Validation Loss: 0.07916004005583781, Accuracy: 96.84%\n",
            "Second phase started. Learning rate:  0.001\n",
            "Liczba zamrożonych parametrów: 4007548\n",
            "Liczba niezamrożonych parametrów: 2562\n"
          ]
        },
        {
          "output_type": "stream",
          "name": "stderr",
          "text": [
            "Epoch 1:  10%|█         | 32/313 [00:16<00:37,  7.54it/s, loss=0.0515]/usr/local/lib/python3.10/dist-packages/PIL/TiffImagePlugin.py:858: UserWarning: Truncated File Read\n",
            "  warnings.warn(str(msg))\n",
            "Epoch 1: 100%|██████████| 313/313 [02:16<00:00,  2.29it/s, loss=0.139]\n"
          ]
        },
        {
          "output_type": "stream",
          "name": "stdout",
          "text": [
            "Train Loss: 0.09245519102000581, Validation Loss: 0.07925071696974809, Accuracy: 96.92%\n"
          ]
        },
        {
          "output_type": "stream",
          "name": "stderr",
          "text": [
            "Epoch 2:  92%|█████████▏| 288/313 [02:07<00:03,  6.81it/s, loss=0.0731]/usr/local/lib/python3.10/dist-packages/PIL/TiffImagePlugin.py:858: UserWarning: Truncated File Read\n",
            "  warnings.warn(str(msg))\n",
            "Epoch 2: 100%|██████████| 313/313 [02:16<00:00,  2.29it/s, loss=0.113]\n"
          ]
        },
        {
          "output_type": "stream",
          "name": "stdout",
          "text": [
            "Train Loss: 0.09293356480987404, Validation Loss: 0.07603865940878286, Accuracy: 97.12%\n"
          ]
        },
        {
          "output_type": "stream",
          "name": "stderr",
          "text": [
            "Epoch 3:   5%|▌         | 16/313 [00:12<00:44,  6.72it/s, loss=0.0325]/usr/local/lib/python3.10/dist-packages/PIL/TiffImagePlugin.py:858: UserWarning: Truncated File Read\n",
            "  warnings.warn(str(msg))\n",
            "Epoch 3: 100%|██████████| 313/313 [02:17<00:00,  2.27it/s, loss=0.0629]\n"
          ]
        },
        {
          "output_type": "stream",
          "name": "stdout",
          "text": [
            "Train Loss: 0.08962397443088956, Validation Loss: 0.07729258263318599, Accuracy: 97.06%\n"
          ]
        },
        {
          "output_type": "stream",
          "name": "stderr",
          "text": [
            "Epoch 4:  36%|███▌      | 112/313 [00:50<00:28,  7.17it/s, loss=0.0803]/usr/local/lib/python3.10/dist-packages/PIL/TiffImagePlugin.py:858: UserWarning: Truncated File Read\n",
            "  warnings.warn(str(msg))\n",
            "Epoch 4: 100%|██████████| 313/313 [02:16<00:00,  2.29it/s, loss=0.00874]\n"
          ]
        },
        {
          "output_type": "stream",
          "name": "stdout",
          "text": [
            "Train Loss: 0.09441471190902943, Validation Loss: 0.07983506611206487, Accuracy: 96.78%\n"
          ]
        },
        {
          "output_type": "stream",
          "name": "stderr",
          "text": [
            "Epoch 5:  56%|█████▌    | 176/313 [01:21<00:27,  4.97it/s, loss=0.0658]/usr/local/lib/python3.10/dist-packages/PIL/TiffImagePlugin.py:858: UserWarning: Truncated File Read\n",
            "  warnings.warn(str(msg))\n",
            "Epoch 5: 100%|██████████| 313/313 [02:15<00:00,  2.31it/s, loss=0.0337]\n"
          ]
        },
        {
          "output_type": "stream",
          "name": "stdout",
          "text": [
            "Train Loss: 0.09751868391701113, Validation Loss: 0.07789900077836989, Accuracy: 97.02%\n"
          ]
        },
        {
          "output_type": "stream",
          "name": "stderr",
          "text": [
            "Epoch 6:  94%|█████████▍| 294/313 [02:09<00:05,  3.35it/s, loss=0.0951]/usr/local/lib/python3.10/dist-packages/PIL/TiffImagePlugin.py:858: UserWarning: Truncated File Read\n",
            "  warnings.warn(str(msg))\n",
            "Epoch 6: 100%|██████████| 313/313 [02:14<00:00,  2.33it/s, loss=0.0354]\n"
          ]
        },
        {
          "output_type": "stream",
          "name": "stdout",
          "text": [
            "Train Loss: 0.09017919030445166, Validation Loss: 0.08048077267182024, Accuracy: 96.94%\n"
          ]
        },
        {
          "output_type": "stream",
          "name": "stderr",
          "text": [
            "Epoch 7:  12%|█▏        | 38/313 [00:22<01:57,  2.35it/s, loss=0.0786]/usr/local/lib/python3.10/dist-packages/PIL/TiffImagePlugin.py:858: UserWarning: Truncated File Read\n",
            "  warnings.warn(str(msg))\n",
            "Epoch 7: 100%|██████████| 313/313 [02:14<00:00,  2.34it/s, loss=0.0603]\n"
          ]
        },
        {
          "output_type": "stream",
          "name": "stdout",
          "text": [
            "Train Loss: 0.09050386725439907, Validation Loss: 0.07816238068279964, Accuracy: 97.04%\n"
          ]
        },
        {
          "output_type": "stream",
          "name": "stderr",
          "text": [
            "Epoch 8:  68%|██████▊   | 212/313 [01:36<00:55,  1.81it/s, loss=0.0847]/usr/local/lib/python3.10/dist-packages/PIL/TiffImagePlugin.py:858: UserWarning: Truncated File Read\n",
            "  warnings.warn(str(msg))\n",
            "Epoch 8: 100%|██████████| 313/313 [02:13<00:00,  2.34it/s, loss=0.123]\n"
          ]
        },
        {
          "output_type": "stream",
          "name": "stdout",
          "text": [
            "Train Loss: 0.09441204609486242, Validation Loss: 0.0819209433408289, Accuracy: 96.62%\n"
          ]
        },
        {
          "output_type": "stream",
          "name": "stderr",
          "text": [
            "Epoch 9:  32%|███▏      | 100/313 [00:48<01:49,  1.95it/s, loss=0.0762]/usr/local/lib/python3.10/dist-packages/PIL/TiffImagePlugin.py:858: UserWarning: Truncated File Read\n",
            "  warnings.warn(str(msg))\n",
            "Epoch 9: 100%|██████████| 313/313 [02:12<00:00,  2.35it/s, loss=0.0357]\n"
          ]
        },
        {
          "output_type": "stream",
          "name": "stdout",
          "text": [
            "Train Loss: 0.091959663851264, Validation Loss: 0.07977851097106556, Accuracy: 97.08%\n"
          ]
        },
        {
          "output_type": "stream",
          "name": "stderr",
          "text": [
            "Epoch 10:  41%|████      | 128/313 [00:57<00:30,  6.14it/s, loss=0.0813]/usr/local/lib/python3.10/dist-packages/PIL/TiffImagePlugin.py:858: UserWarning: Truncated File Read\n",
            "  warnings.warn(str(msg))\n",
            "Epoch 10: 100%|██████████| 313/313 [02:13<00:00,  2.34it/s, loss=0.0812]\n"
          ]
        },
        {
          "output_type": "stream",
          "name": "stdout",
          "text": [
            "Train Loss: 0.09485138167802709, Validation Loss: 0.07982576373210058, Accuracy: 96.84%\n"
          ]
        },
        {
          "output_type": "stream",
          "name": "stderr",
          "text": [
            "Epoch 11:  51%|█████     | 160/313 [01:11<00:19,  7.91it/s, loss=0.0943]/usr/local/lib/python3.10/dist-packages/PIL/TiffImagePlugin.py:858: UserWarning: Truncated File Read\n",
            "  warnings.warn(str(msg))\n",
            "Epoch 11: 100%|██████████| 313/313 [02:14<00:00,  2.33it/s, loss=0.154]\n"
          ]
        },
        {
          "output_type": "stream",
          "name": "stdout",
          "text": [
            "Train Loss: 0.09323201859935214, Validation Loss: 0.080095052742694, Accuracy: 96.82%\n"
          ]
        },
        {
          "output_type": "stream",
          "name": "stderr",
          "text": [
            "Epoch 12:  56%|█████▌    | 176/313 [01:16<00:20,  6.60it/s, loss=0.064]/usr/local/lib/python3.10/dist-packages/PIL/TiffImagePlugin.py:858: UserWarning: Truncated File Read\n",
            "  warnings.warn(str(msg))\n",
            "Epoch 12: 100%|██████████| 313/313 [02:13<00:00,  2.35it/s, loss=0.0808]\n"
          ]
        },
        {
          "output_type": "stream",
          "name": "stdout",
          "text": [
            "Train Loss: 0.09068577661634253, Validation Loss: 0.0800095027241903, Accuracy: 96.82%\n"
          ]
        },
        {
          "output_type": "stream",
          "name": "stderr",
          "text": [
            "\rEpoch 13:   0%|          | 0/313 [00:00<?, ?it/s]/usr/local/lib/python3.10/dist-packages/PIL/TiffImagePlugin.py:858: UserWarning: Truncated File Read\n",
            "  warnings.warn(str(msg))\n",
            "Epoch 13: 100%|██████████| 313/313 [02:16<00:00,  2.29it/s, loss=0.0545]\n"
          ]
        },
        {
          "output_type": "stream",
          "name": "stdout",
          "text": [
            "Train Loss: 0.0927402707911766, Validation Loss: 0.07935264489695995, Accuracy: 96.94%\n"
          ]
        },
        {
          "output_type": "stream",
          "name": "stderr",
          "text": [
            "Epoch 14:   5%|▌         | 16/313 [00:10<00:44,  6.74it/s, loss=0.0433]/usr/local/lib/python3.10/dist-packages/PIL/TiffImagePlugin.py:858: UserWarning: Truncated File Read\n",
            "  warnings.warn(str(msg))\n",
            "Epoch 14: 100%|██████████| 313/313 [02:15<00:00,  2.31it/s, loss=0.15]\n"
          ]
        },
        {
          "output_type": "stream",
          "name": "stdout",
          "text": [
            "Train Loss: 0.08971576234950615, Validation Loss: 0.07588559443932734, Accuracy: 96.94%\n"
          ]
        },
        {
          "output_type": "stream",
          "name": "stderr",
          "text": [
            "Epoch 15:  15%|█▌        | 48/313 [00:23<00:37,  7.10it/s, loss=0.0388]/usr/local/lib/python3.10/dist-packages/PIL/TiffImagePlugin.py:858: UserWarning: Truncated File Read\n",
            "  warnings.warn(str(msg))\n",
            "Epoch 15: 100%|██████████| 313/313 [02:16<00:00,  2.30it/s, loss=0.424]\n"
          ]
        },
        {
          "output_type": "stream",
          "name": "stdout",
          "text": [
            "Train Loss: 0.0939310286402369, Validation Loss: 0.08129280246204779, Accuracy: 96.94%\n",
            "Using the fine_tuning method\n",
            "Loaders created\n",
            "Using the VGG model\n",
            "Classifier for model has been changed.\n",
            "Transfer learning method: fine_tuning applied.\n",
            "Training starts\n",
            "Liczba zamrożonych parametrów: 14714688\n",
            "Liczba niezamrożonych parametrów: 119554050\n"
          ]
        },
        {
          "output_type": "stream",
          "name": "stderr",
          "text": [
            "Epoch 1:  68%|██████▊   | 212/313 [01:50<01:20,  1.25it/s, loss=0.0181]/usr/local/lib/python3.10/dist-packages/PIL/TiffImagePlugin.py:858: UserWarning: Truncated File Read\n",
            "  warnings.warn(str(msg))\n",
            "Epoch 1: 100%|██████████| 313/313 [02:36<00:00,  2.00it/s, loss=0.0129]\n"
          ]
        },
        {
          "output_type": "stream",
          "name": "stdout",
          "text": [
            "Train Loss: 0.4168615751537515, Validation Loss: 0.25970916401495775, Accuracy: 93.32%\n"
          ]
        },
        {
          "output_type": "stream",
          "name": "stderr",
          "text": [
            "Epoch 2:  92%|█████████▏| 289/313 [02:30<00:19,  1.25it/s, loss=0.00875]/usr/local/lib/python3.10/dist-packages/PIL/TiffImagePlugin.py:858: UserWarning: Truncated File Read\n",
            "  warnings.warn(str(msg))\n",
            "Epoch 2: 100%|██████████| 313/313 [02:40<00:00,  1.96it/s, loss=0.00748]\n"
          ]
        },
        {
          "output_type": "stream",
          "name": "stdout",
          "text": [
            "Train Loss: 0.04193798381089937, Validation Loss: 0.04160531407732482, Accuracy: 98.4%\n"
          ]
        },
        {
          "output_type": "stream",
          "name": "stderr",
          "text": [
            "Epoch 3:  71%|███████   | 223/313 [01:54<00:42,  2.12it/s, loss=0.000114]/usr/local/lib/python3.10/dist-packages/PIL/TiffImagePlugin.py:858: UserWarning: Truncated File Read\n",
            "  warnings.warn(str(msg))\n",
            "Epoch 3: 100%|██████████| 313/313 [02:39<00:00,  1.97it/s, loss=0.204]\n"
          ]
        },
        {
          "output_type": "stream",
          "name": "stdout",
          "text": [
            "Train Loss: 0.049004473354749514, Validation Loss: 0.15720577826111748, Accuracy: 97.42%\n"
          ]
        },
        {
          "output_type": "stream",
          "name": "stderr",
          "text": [
            "Epoch 4:  93%|█████████▎| 292/313 [02:30<00:11,  1.85it/s, loss=0.000315]/usr/local/lib/python3.10/dist-packages/PIL/TiffImagePlugin.py:858: UserWarning: Truncated File Read\n",
            "  warnings.warn(str(msg))\n",
            "Epoch 4: 100%|██████████| 313/313 [02:38<00:00,  1.97it/s, loss=8.78e-7]\n"
          ]
        },
        {
          "output_type": "stream",
          "name": "stdout",
          "text": [
            "Train Loss: 0.048245253073057305, Validation Loss: 0.3449300651709569, Accuracy: 96.42%\n"
          ]
        },
        {
          "output_type": "stream",
          "name": "stderr",
          "text": [
            "Epoch 5:  73%|███████▎  | 227/313 [01:57<00:46,  1.84it/s, loss=0.0121]/usr/local/lib/python3.10/dist-packages/PIL/TiffImagePlugin.py:858: UserWarning: Truncated File Read\n",
            "  warnings.warn(str(msg))\n",
            "Epoch 5: 100%|██████████| 313/313 [02:39<00:00,  1.96it/s, loss=0.39]\n"
          ]
        },
        {
          "output_type": "stream",
          "name": "stdout",
          "text": [
            "Train Loss: 0.08112248888867699, Validation Loss: 0.17752055742386533, Accuracy: 98.28%\n"
          ]
        },
        {
          "output_type": "stream",
          "name": "stderr",
          "text": [
            "Epoch 6:  94%|█████████▍| 294/313 [02:32<00:08,  2.16it/s, loss=0.422]/usr/local/lib/python3.10/dist-packages/PIL/TiffImagePlugin.py:858: UserWarning: Truncated File Read\n",
            "  warnings.warn(str(msg))\n",
            "Epoch 6: 100%|██████████| 313/313 [02:40<00:00,  1.96it/s, loss=0]\n"
          ]
        },
        {
          "output_type": "stream",
          "name": "stdout",
          "text": [
            "Train Loss: 0.09565292895748242, Validation Loss: 0.3284002412989053, Accuracy: 98.38%\n"
          ]
        },
        {
          "output_type": "stream",
          "name": "stderr",
          "text": [
            "Epoch 7:  82%|████████▏ | 258/313 [02:13<00:40,  1.36it/s, loss=0.00482]/usr/local/lib/python3.10/dist-packages/PIL/TiffImagePlugin.py:858: UserWarning: Truncated File Read\n",
            "  warnings.warn(str(msg))\n",
            "Epoch 7: 100%|██████████| 313/313 [02:37<00:00,  1.98it/s, loss=8.46e-5]\n"
          ]
        },
        {
          "output_type": "stream",
          "name": "stdout",
          "text": [
            "Train Loss: 0.07081739608501125, Validation Loss: 0.15558806985835794, Accuracy: 98.5%\n"
          ]
        },
        {
          "output_type": "stream",
          "name": "stderr",
          "text": [
            "Epoch 8:   9%|▉         | 29/313 [00:20<01:53,  2.50it/s, loss=0]/usr/local/lib/python3.10/dist-packages/PIL/TiffImagePlugin.py:858: UserWarning: Truncated File Read\n",
            "  warnings.warn(str(msg))\n",
            "Epoch 8: 100%|██████████| 313/313 [02:39<00:00,  1.96it/s, loss=0]\n"
          ]
        },
        {
          "output_type": "stream",
          "name": "stdout",
          "text": [
            "Train Loss: 0.02740296521065949, Validation Loss: 0.3287218100063604, Accuracy: 98.36%\n"
          ]
        },
        {
          "output_type": "stream",
          "name": "stderr",
          "text": [
            "Epoch 9:  76%|███████▌  | 238/313 [02:06<00:28,  2.59it/s, loss=7.21e-6]/usr/local/lib/python3.10/dist-packages/PIL/TiffImagePlugin.py:858: UserWarning: Truncated File Read\n",
            "  warnings.warn(str(msg))\n",
            "Epoch 9: 100%|██████████| 313/313 [02:41<00:00,  1.94it/s, loss=0]\n"
          ]
        },
        {
          "output_type": "stream",
          "name": "stdout",
          "text": [
            "Train Loss: 0.05491397713343303, Validation Loss: 0.5834344419281601, Accuracy: 98.4%\n"
          ]
        },
        {
          "output_type": "stream",
          "name": "stderr",
          "text": [
            "Epoch 10:  12%|█▏        | 39/313 [00:24<01:55,  2.38it/s, loss=0]/usr/local/lib/python3.10/dist-packages/PIL/TiffImagePlugin.py:858: UserWarning: Truncated File Read\n",
            "  warnings.warn(str(msg))\n",
            "Epoch 10: 100%|██████████| 313/313 [02:39<00:00,  1.96it/s, loss=0]\n"
          ]
        },
        {
          "output_type": "stream",
          "name": "stdout",
          "text": [
            "Train Loss: 0.2177380988658335, Validation Loss: 0.7046239971340107, Accuracy: 98.42%\n"
          ]
        },
        {
          "output_type": "stream",
          "name": "stderr",
          "text": [
            "Epoch 11:  92%|█████████▏| 289/313 [02:29<00:12,  1.91it/s, loss=0]/usr/local/lib/python3.10/dist-packages/PIL/TiffImagePlugin.py:858: UserWarning: Truncated File Read\n",
            "  warnings.warn(str(msg))\n",
            "Epoch 11: 100%|██████████| 313/313 [02:40<00:00,  1.95it/s, loss=0]\n"
          ]
        },
        {
          "output_type": "stream",
          "name": "stdout",
          "text": [
            "Train Loss: 0.19722531332992488, Validation Loss: 1.1700515247668182, Accuracy: 98.42%\n"
          ]
        },
        {
          "output_type": "stream",
          "name": "stderr",
          "text": [
            "\rEpoch 12:   0%|          | 0/313 [00:00<?, ?it/s]/usr/local/lib/python3.10/dist-packages/PIL/TiffImagePlugin.py:858: UserWarning: Truncated File Read\n",
            "  warnings.warn(str(msg))\n",
            "Epoch 12: 100%|██████████| 313/313 [02:39<00:00,  1.96it/s, loss=0]\n"
          ]
        },
        {
          "output_type": "stream",
          "name": "stdout",
          "text": [
            "Train Loss: 0.1365170054550711, Validation Loss: 0.8282851737931823, Accuracy: 98.74%\n"
          ]
        },
        {
          "output_type": "stream",
          "name": "stderr",
          "text": [
            "Epoch 13:  61%|██████▏   | 192/313 [01:38<00:45,  2.64it/s, loss=0]/usr/local/lib/python3.10/dist-packages/PIL/TiffImagePlugin.py:858: UserWarning: Truncated File Read\n",
            "  warnings.warn(str(msg))\n",
            "Epoch 13: 100%|██████████| 313/313 [02:39<00:00,  1.96it/s, loss=0.825]\n"
          ]
        },
        {
          "output_type": "stream",
          "name": "stdout",
          "text": [
            "Train Loss: 0.10929843633672191, Validation Loss: 1.4343303015740287, Accuracy: 98.52%\n"
          ]
        },
        {
          "output_type": "stream",
          "name": "stderr",
          "text": [
            "Epoch 14:  82%|████████▏ | 256/313 [02:13<00:24,  2.34it/s, loss=0]/usr/local/lib/python3.10/dist-packages/PIL/TiffImagePlugin.py:858: UserWarning: Truncated File Read\n",
            "  warnings.warn(str(msg))\n",
            "Epoch 14: 100%|██████████| 313/313 [02:39<00:00,  1.96it/s, loss=0]\n"
          ]
        },
        {
          "output_type": "stream",
          "name": "stdout",
          "text": [
            "Train Loss: 0.12153595972522623, Validation Loss: 1.3478766621981624, Accuracy: 98.56%\n"
          ]
        },
        {
          "output_type": "stream",
          "name": "stderr",
          "text": [
            "Epoch 15:  45%|████▌     | 141/313 [01:16<01:08,  2.51it/s, loss=0]/usr/local/lib/python3.10/dist-packages/PIL/TiffImagePlugin.py:858: UserWarning: Truncated File Read\n",
            "  warnings.warn(str(msg))\n",
            "Epoch 15: 100%|██████████| 313/313 [02:40<00:00,  1.96it/s, loss=0]\n"
          ]
        },
        {
          "output_type": "stream",
          "name": "stdout",
          "text": [
            "Train Loss: 0.1191227279119429, Validation Loss: 1.5210658899166443, Accuracy: 98.06%\n",
            "Fine tuning applied. Learning rate:  0.0001\n",
            "Liczba zamrożonych parametrów: 0\n",
            "Liczba niezamrożonych parametrów: 134268738\n"
          ]
        },
        {
          "output_type": "stream",
          "name": "stderr",
          "text": [
            "Epoch 1:  20%|██        | 63/313 [01:05<03:45,  1.11it/s, loss=0.247]/usr/local/lib/python3.10/dist-packages/PIL/TiffImagePlugin.py:858: UserWarning: Truncated File Read\n",
            "  warnings.warn(str(msg))\n",
            "Epoch 1: 100%|██████████| 313/313 [04:53<00:00,  1.07it/s, loss=0.0844]\n"
          ]
        },
        {
          "output_type": "stream",
          "name": "stdout",
          "text": [
            "Train Loss: 0.3620868136923773, Validation Loss: 0.05653337273119339, Accuracy: 98.24%\n"
          ]
        },
        {
          "output_type": "stream",
          "name": "stderr",
          "text": [
            "Epoch 2:  57%|█████▋    | 178/313 [02:49<02:02,  1.10it/s, loss=0.00631]/usr/local/lib/python3.10/dist-packages/PIL/TiffImagePlugin.py:858: UserWarning: Truncated File Read\n",
            "  warnings.warn(str(msg))\n",
            "Epoch 2: 100%|██████████| 313/313 [04:50<00:00,  1.08it/s, loss=7.04e-6]\n"
          ]
        },
        {
          "output_type": "stream",
          "name": "stdout",
          "text": [
            "Train Loss: 0.0243688633077539, Validation Loss: 0.08001174668860689, Accuracy: 98.12%\n"
          ]
        },
        {
          "output_type": "stream",
          "name": "stderr",
          "text": [
            "Epoch 3:  85%|████████▍ | 266/313 [04:08<00:42,  1.11it/s, loss=0.28]/usr/local/lib/python3.10/dist-packages/PIL/TiffImagePlugin.py:858: UserWarning: Truncated File Read\n",
            "  warnings.warn(str(msg))\n",
            "Epoch 3: 100%|██████████| 313/313 [04:51<00:00,  1.08it/s, loss=2.53e-6]\n"
          ]
        },
        {
          "output_type": "stream",
          "name": "stdout",
          "text": [
            "Train Loss: 0.023763089129443714, Validation Loss: 0.09521615531158671, Accuracy: 97.02%\n"
          ]
        },
        {
          "output_type": "stream",
          "name": "stderr",
          "text": [
            "Epoch 4:   4%|▍         | 14/313 [00:19<04:44,  1.05it/s, loss=0.00711]/usr/local/lib/python3.10/dist-packages/PIL/TiffImagePlugin.py:858: UserWarning: Truncated File Read\n",
            "  warnings.warn(str(msg))\n",
            "Epoch 4: 100%|██████████| 313/313 [04:50<00:00,  1.08it/s, loss=2.67e-5]\n"
          ]
        },
        {
          "output_type": "stream",
          "name": "stdout",
          "text": [
            "Train Loss: 0.016311566663324985, Validation Loss: 0.060155375705659625, Accuracy: 98.56%\n"
          ]
        },
        {
          "output_type": "stream",
          "name": "stderr",
          "text": [
            "Epoch 5:  80%|███████▉  | 250/313 [03:52<00:56,  1.12it/s, loss=0.00189]/usr/local/lib/python3.10/dist-packages/PIL/TiffImagePlugin.py:858: UserWarning: Truncated File Read\n",
            "  warnings.warn(str(msg))\n",
            "Epoch 5: 100%|██████████| 313/313 [04:48<00:00,  1.08it/s, loss=0.0143]\n"
          ]
        },
        {
          "output_type": "stream",
          "name": "stdout",
          "text": [
            "Train Loss: 0.0128952046424252, Validation Loss: 0.08749109304552563, Accuracy: 98.38%\n"
          ]
        },
        {
          "output_type": "stream",
          "name": "stderr",
          "text": [
            "Epoch 6:  79%|███████▉  | 247/313 [03:53<01:03,  1.04it/s, loss=0.016]/usr/local/lib/python3.10/dist-packages/PIL/TiffImagePlugin.py:858: UserWarning: Truncated File Read\n",
            "  warnings.warn(str(msg))\n",
            "Epoch 6: 100%|██████████| 313/313 [04:52<00:00,  1.07it/s, loss=0.00041]\n"
          ]
        },
        {
          "output_type": "stream",
          "name": "stdout",
          "text": [
            "Train Loss: 0.049320949410456436, Validation Loss: 0.05684338454651695, Accuracy: 98.62%\n"
          ]
        },
        {
          "output_type": "stream",
          "name": "stderr",
          "text": [
            "Epoch 7:  43%|████▎     | 136/313 [02:10<02:41,  1.10it/s, loss=0.0961]/usr/local/lib/python3.10/dist-packages/PIL/TiffImagePlugin.py:858: UserWarning: Truncated File Read\n",
            "  warnings.warn(str(msg))\n",
            "Epoch 7: 100%|██████████| 313/313 [04:51<00:00,  1.07it/s, loss=0.00983]\n"
          ]
        },
        {
          "output_type": "stream",
          "name": "stdout",
          "text": [
            "Train Loss: 0.018256991348984536, Validation Loss: 0.0787300323545078, Accuracy: 98.04%\n"
          ]
        },
        {
          "output_type": "stream",
          "name": "stderr",
          "text": [
            "Epoch 8:   5%|▌         | 17/313 [00:23<04:43,  1.04it/s, loss=0.00355]/usr/local/lib/python3.10/dist-packages/PIL/TiffImagePlugin.py:858: UserWarning: Truncated File Read\n",
            "  warnings.warn(str(msg))\n",
            "Epoch 8: 100%|██████████| 313/313 [04:52<00:00,  1.07it/s, loss=0.00654]\n"
          ]
        },
        {
          "output_type": "stream",
          "name": "stdout",
          "text": [
            "Train Loss: 0.013591629722293792, Validation Loss: 0.0635737649745697, Accuracy: 97.9%\n"
          ]
        },
        {
          "output_type": "stream",
          "name": "stderr",
          "text": [
            "Epoch 9:   4%|▍         | 12/313 [00:18<05:06,  1.02s/it, loss=0.00912]/usr/local/lib/python3.10/dist-packages/PIL/TiffImagePlugin.py:858: UserWarning: Truncated File Read\n",
            "  warnings.warn(str(msg))\n",
            "Epoch 9: 100%|██████████| 313/313 [04:50<00:00,  1.08it/s, loss=0.0172]\n"
          ]
        },
        {
          "output_type": "stream",
          "name": "stdout",
          "text": [
            "Train Loss: 0.009038961771504098, Validation Loss: 0.06809946811718626, Accuracy: 98.54%\n"
          ]
        },
        {
          "output_type": "stream",
          "name": "stderr",
          "text": [
            "Epoch 10:  77%|███████▋  | 240/313 [03:48<01:05,  1.12it/s, loss=0.177]/usr/local/lib/python3.10/dist-packages/PIL/TiffImagePlugin.py:858: UserWarning: Truncated File Read\n",
            "  warnings.warn(str(msg))\n",
            "Epoch 10: 100%|██████████| 313/313 [04:53<00:00,  1.07it/s, loss=0.0253]\n"
          ]
        },
        {
          "output_type": "stream",
          "name": "stdout",
          "text": [
            "Train Loss: 0.019533474449186183, Validation Loss: 0.06946107207449695, Accuracy: 97.74%\n"
          ]
        },
        {
          "output_type": "stream",
          "name": "stderr",
          "text": [
            "Epoch 11:  62%|██████▏   | 195/313 [03:04<01:48,  1.09it/s, loss=0.00138]/usr/local/lib/python3.10/dist-packages/PIL/TiffImagePlugin.py:858: UserWarning: Truncated File Read\n",
            "  warnings.warn(str(msg))\n",
            "Epoch 11: 100%|██████████| 313/313 [04:50<00:00,  1.08it/s, loss=0.00199]\n"
          ]
        },
        {
          "output_type": "stream",
          "name": "stdout",
          "text": [
            "Train Loss: 0.013503612057034481, Validation Loss: 0.06519280325575225, Accuracy: 98.28%\n"
          ]
        },
        {
          "output_type": "stream",
          "name": "stderr",
          "text": [
            "Epoch 12:  77%|███████▋  | 242/313 [03:47<01:06,  1.06it/s, loss=0.00044]/usr/local/lib/python3.10/dist-packages/PIL/TiffImagePlugin.py:858: UserWarning: Truncated File Read\n",
            "  warnings.warn(str(msg))\n",
            "Epoch 12: 100%|██████████| 313/313 [04:51<00:00,  1.07it/s, loss=0.00132]\n"
          ]
        },
        {
          "output_type": "stream",
          "name": "stdout",
          "text": [
            "Train Loss: 0.014464788963601975, Validation Loss: 0.16809005086880463, Accuracy: 97.72%\n"
          ]
        },
        {
          "output_type": "stream",
          "name": "stderr",
          "text": [
            "Epoch 13:   9%|▊         | 27/313 [00:34<04:34,  1.04it/s, loss=0.000758]/usr/local/lib/python3.10/dist-packages/PIL/TiffImagePlugin.py:858: UserWarning: Truncated File Read\n",
            "  warnings.warn(str(msg))\n",
            "Epoch 13: 100%|██████████| 313/313 [04:52<00:00,  1.07it/s, loss=3.46e-5]\n"
          ]
        },
        {
          "output_type": "stream",
          "name": "stdout",
          "text": [
            "Train Loss: 0.01662365025975197, Validation Loss: 0.052151488684609795, Accuracy: 98.5%\n"
          ]
        },
        {
          "output_type": "stream",
          "name": "stderr",
          "text": [
            "Epoch 14:  68%|██████▊   | 214/313 [03:20<01:27,  1.13it/s, loss=6.19e-5]/usr/local/lib/python3.10/dist-packages/PIL/TiffImagePlugin.py:858: UserWarning: Truncated File Read\n",
            "  warnings.warn(str(msg))\n",
            "Epoch 14: 100%|██████████| 313/313 [04:48<00:00,  1.08it/s, loss=0.0104]\n"
          ]
        },
        {
          "output_type": "stream",
          "name": "stdout",
          "text": [
            "Train Loss: 0.015566707898695745, Validation Loss: 0.10820195419254088, Accuracy: 97.82%\n"
          ]
        },
        {
          "output_type": "stream",
          "name": "stderr",
          "text": [
            "Epoch 15:  20%|█▉        | 62/313 [01:03<03:43,  1.12it/s, loss=0.00558]/usr/local/lib/python3.10/dist-packages/PIL/TiffImagePlugin.py:858: UserWarning: Truncated File Read\n",
            "  warnings.warn(str(msg))\n",
            "Epoch 15: 100%|██████████| 313/313 [04:49<00:00,  1.08it/s, loss=0.0326]\n"
          ]
        },
        {
          "output_type": "stream",
          "name": "stdout",
          "text": [
            "Train Loss: 0.024690431112339036, Validation Loss: 0.054898483817033834, Accuracy: 98.2%\n",
            "Loaders created\n",
            "Using the ResNet model\n",
            "Classifier for model has been changed.\n",
            "Transfer learning method: fine_tuning applied.\n",
            "Training starts\n",
            "Liczba zamrożonych parametrów: 23508032\n",
            "Liczba niezamrożonych parametrów: 4098\n"
          ]
        },
        {
          "output_type": "stream",
          "name": "stderr",
          "text": [
            "Epoch 1:  93%|█████████▎| 290/313 [04:51<00:17,  1.28it/s, loss=0.0446]/usr/local/lib/python3.10/dist-packages/PIL/TiffImagePlugin.py:858: UserWarning: Truncated File Read\n",
            "  warnings.warn(str(msg))\n",
            "Epoch 1: 100%|██████████| 313/313 [04:57<00:00,  1.05it/s, loss=0.0287]\n"
          ]
        },
        {
          "output_type": "stream",
          "name": "stdout",
          "text": [
            "Train Loss: 0.09733162084207557, Validation Loss: 0.058766316761015146, Accuracy: 97.8%\n"
          ]
        },
        {
          "output_type": "stream",
          "name": "stderr",
          "text": [
            "Epoch 2:  87%|████████▋ | 271/313 [02:10<00:10,  4.07it/s, loss=0.0363]/usr/local/lib/python3.10/dist-packages/PIL/TiffImagePlugin.py:858: UserWarning: Truncated File Read\n",
            "  warnings.warn(str(msg))\n",
            "Epoch 2: 100%|██████████| 313/313 [02:27<00:00,  2.12it/s, loss=0.00816]\n"
          ]
        },
        {
          "output_type": "stream",
          "name": "stdout",
          "text": [
            "Train Loss: 0.05535674059596924, Validation Loss: 0.048715937002915655, Accuracy: 98.18%\n"
          ]
        },
        {
          "output_type": "stream",
          "name": "stderr",
          "text": [
            "Epoch 3:  45%|████▌     | 142/313 [01:13<00:43,  3.89it/s, loss=0.0279]/usr/local/lib/python3.10/dist-packages/PIL/TiffImagePlugin.py:858: UserWarning: Truncated File Read\n",
            "  warnings.warn(str(msg))\n",
            "Epoch 3: 100%|██████████| 313/313 [02:32<00:00,  2.05it/s, loss=0.0325]\n"
          ]
        },
        {
          "output_type": "stream",
          "name": "stdout",
          "text": [
            "Train Loss: 0.05045336776951584, Validation Loss: 0.049188534721446256, Accuracy: 98.12%\n"
          ]
        },
        {
          "output_type": "stream",
          "name": "stderr",
          "text": [
            "Epoch 4:   8%|▊         | 25/313 [00:20<01:48,  2.64it/s, loss=0.0332]/usr/local/lib/python3.10/dist-packages/PIL/TiffImagePlugin.py:858: UserWarning: Truncated File Read\n",
            "  warnings.warn(str(msg))\n",
            "Epoch 4: 100%|██████████| 313/313 [02:37<00:00,  1.99it/s, loss=0.0509]\n"
          ]
        },
        {
          "output_type": "stream",
          "name": "stdout",
          "text": [
            "Train Loss: 0.048032081848867356, Validation Loss: 0.046616530722254725, Accuracy: 98.18%\n"
          ]
        },
        {
          "output_type": "stream",
          "name": "stderr",
          "text": [
            "Epoch 5:   5%|▌         | 16/313 [00:14<01:53,  2.61it/s, loss=0.0272]/usr/local/lib/python3.10/dist-packages/PIL/TiffImagePlugin.py:858: UserWarning: Truncated File Read\n",
            "  warnings.warn(str(msg))\n",
            "Epoch 5: 100%|██████████| 313/313 [02:34<00:00,  2.03it/s, loss=0.0105]\n"
          ]
        },
        {
          "output_type": "stream",
          "name": "stdout",
          "text": [
            "Train Loss: 0.04522726819002495, Validation Loss: 0.04131339108158799, Accuracy: 98.54%\n"
          ]
        },
        {
          "output_type": "stream",
          "name": "stderr",
          "text": [
            "Epoch 6:  41%|████      | 128/313 [01:04<00:44,  4.18it/s, loss=0.0956]/usr/local/lib/python3.10/dist-packages/PIL/TiffImagePlugin.py:858: UserWarning: Truncated File Read\n",
            "  warnings.warn(str(msg))\n",
            "Epoch 6: 100%|██████████| 313/313 [02:27<00:00,  2.12it/s, loss=0.00386]\n"
          ]
        },
        {
          "output_type": "stream",
          "name": "stdout",
          "text": [
            "Train Loss: 0.040775369614743574, Validation Loss: 0.04331959595445461, Accuracy: 98.44%\n"
          ]
        },
        {
          "output_type": "stream",
          "name": "stderr",
          "text": [
            "Epoch 7:  87%|████████▋ | 272/313 [02:12<00:12,  3.29it/s, loss=0.0749]/usr/local/lib/python3.10/dist-packages/PIL/TiffImagePlugin.py:858: UserWarning: Truncated File Read\n",
            "  warnings.warn(str(msg))\n",
            "Epoch 7: 100%|██████████| 313/313 [02:28<00:00,  2.11it/s, loss=0.00432]\n"
          ]
        },
        {
          "output_type": "stream",
          "name": "stdout",
          "text": [
            "Train Loss: 0.03988603487597427, Validation Loss: 0.042674302795453915, Accuracy: 98.38%\n"
          ]
        },
        {
          "output_type": "stream",
          "name": "stderr",
          "text": [
            "Epoch 8:  21%|██        | 65/313 [00:35<03:05,  1.34it/s, loss=0.0186]/usr/local/lib/python3.10/dist-packages/PIL/TiffImagePlugin.py:858: UserWarning: Truncated File Read\n",
            "  warnings.warn(str(msg))\n",
            "Epoch 8: 100%|██████████| 313/313 [02:27<00:00,  2.13it/s, loss=0.0258]\n"
          ]
        },
        {
          "output_type": "stream",
          "name": "stdout",
          "text": [
            "Train Loss: 0.04679535874262297, Validation Loss: 0.04471688923080411, Accuracy: 98.4%\n"
          ]
        },
        {
          "output_type": "stream",
          "name": "stderr",
          "text": [
            "Epoch 9:  26%|██▌       | 80/313 [00:43<01:16,  3.03it/s, loss=0.0255]/usr/local/lib/python3.10/dist-packages/PIL/TiffImagePlugin.py:858: UserWarning: Truncated File Read\n",
            "  warnings.warn(str(msg))\n",
            "Epoch 9: 100%|██████████| 313/313 [02:26<00:00,  2.13it/s, loss=0.463]\n"
          ]
        },
        {
          "output_type": "stream",
          "name": "stdout",
          "text": [
            "Train Loss: 0.04423076934523333, Validation Loss: 0.04636366391971507, Accuracy: 98.14%\n"
          ]
        },
        {
          "output_type": "stream",
          "name": "stderr",
          "text": [
            "Epoch 10:  41%|████      | 128/313 [01:03<00:45,  4.05it/s, loss=0.00942]/usr/local/lib/python3.10/dist-packages/PIL/TiffImagePlugin.py:858: UserWarning: Truncated File Read\n",
            "  warnings.warn(str(msg))\n",
            "Epoch 10: 100%|██████████| 313/313 [02:25<00:00,  2.15it/s, loss=0.0491]\n"
          ]
        },
        {
          "output_type": "stream",
          "name": "stdout",
          "text": [
            "Train Loss: 0.04253794589137938, Validation Loss: 0.04286972559405317, Accuracy: 98.4%\n"
          ]
        },
        {
          "output_type": "stream",
          "name": "stderr",
          "text": [
            "Epoch 11:  15%|█▌        | 48/313 [00:28<00:59,  4.48it/s, loss=0.0727]/usr/local/lib/python3.10/dist-packages/PIL/TiffImagePlugin.py:858: UserWarning: Truncated File Read\n",
            "  warnings.warn(str(msg))\n",
            "Epoch 11: 100%|██████████| 313/313 [02:30<00:00,  2.08it/s, loss=0.0112]\n"
          ]
        },
        {
          "output_type": "stream",
          "name": "stdout",
          "text": [
            "Train Loss: 0.03701569526526964, Validation Loss: 0.06082862166999515, Accuracy: 97.88%\n"
          ]
        },
        {
          "output_type": "stream",
          "name": "stderr",
          "text": [
            "Epoch 12:  38%|███▊      | 118/313 [01:03<01:42,  1.90it/s, loss=0.0207]/usr/local/lib/python3.10/dist-packages/PIL/TiffImagePlugin.py:858: UserWarning: Truncated File Read\n",
            "  warnings.warn(str(msg))\n",
            "Epoch 12: 100%|██████████| 313/313 [02:28<00:00,  2.11it/s, loss=0.0101]\n"
          ]
        },
        {
          "output_type": "stream",
          "name": "stdout",
          "text": [
            "Train Loss: 0.03584259802500863, Validation Loss: 0.04424973633589777, Accuracy: 98.3%\n"
          ]
        },
        {
          "output_type": "stream",
          "name": "stderr",
          "text": [
            "\rEpoch 13:   0%|          | 0/313 [00:00<?, ?it/s]/usr/local/lib/python3.10/dist-packages/PIL/TiffImagePlugin.py:858: UserWarning: Truncated File Read\n",
            "  warnings.warn(str(msg))\n",
            "Epoch 13: 100%|██████████| 313/313 [02:30<00:00,  2.07it/s, loss=0.0242]\n"
          ]
        },
        {
          "output_type": "stream",
          "name": "stdout",
          "text": [
            "Train Loss: 0.0363848883498344, Validation Loss: 0.041651096899276804, Accuracy: 98.46%\n"
          ]
        },
        {
          "output_type": "stream",
          "name": "stderr",
          "text": [
            "Epoch 14:   9%|▉         | 28/313 [00:22<01:12,  3.91it/s, loss=0.0429]/usr/local/lib/python3.10/dist-packages/PIL/TiffImagePlugin.py:858: UserWarning: Truncated File Read\n",
            "  warnings.warn(str(msg))\n",
            "Epoch 14: 100%|██████████| 313/313 [02:33<00:00,  2.04it/s, loss=0.286]\n"
          ]
        },
        {
          "output_type": "stream",
          "name": "stdout",
          "text": [
            "Train Loss: 0.0370974974965635, Validation Loss: 0.04816690347300359, Accuracy: 98.22%\n"
          ]
        },
        {
          "output_type": "stream",
          "name": "stderr",
          "text": [
            "Epoch 15:  31%|███       | 96/313 [00:51<01:10,  3.06it/s, loss=0.408]/usr/local/lib/python3.10/dist-packages/PIL/TiffImagePlugin.py:858: UserWarning: Truncated File Read\n",
            "  warnings.warn(str(msg))\n",
            "Epoch 15: 100%|██████████| 313/313 [02:29<00:00,  2.09it/s, loss=0.0208]\n"
          ]
        },
        {
          "output_type": "stream",
          "name": "stdout",
          "text": [
            "Train Loss: 0.03927689422659885, Validation Loss: 0.042217362854772324, Accuracy: 98.4%\n",
            "Fine tuning applied. Learning rate:  0.0001\n",
            "Liczba zamrożonych parametrów: 0\n",
            "Liczba niezamrożonych parametrów: 23512130\n"
          ]
        },
        {
          "output_type": "stream",
          "name": "stderr",
          "text": [
            "Epoch 1:  33%|███▎      | 104/313 [01:19<02:20,  1.49it/s, loss=0.063]/usr/local/lib/python3.10/dist-packages/PIL/TiffImagePlugin.py:858: UserWarning: Truncated File Read\n",
            "  warnings.warn(str(msg))\n",
            "Epoch 1: 100%|██████████| 313/313 [03:37<00:00,  1.44it/s, loss=0.0341]\n"
          ]
        },
        {
          "output_type": "stream",
          "name": "stdout",
          "text": [
            "Train Loss: 0.05323943741826568, Validation Loss: 0.031029789717396415, Accuracy: 99.02%\n"
          ]
        },
        {
          "output_type": "stream",
          "name": "stderr",
          "text": [
            "Epoch 2:  78%|███████▊  | 244/313 [02:53<00:43,  1.58it/s, loss=0.0011]/usr/local/lib/python3.10/dist-packages/PIL/TiffImagePlugin.py:858: UserWarning: Truncated File Read\n",
            "  warnings.warn(str(msg))\n",
            "Epoch 2: 100%|██████████| 313/313 [03:37<00:00,  1.44it/s, loss=0.000104]\n"
          ]
        },
        {
          "output_type": "stream",
          "name": "stdout",
          "text": [
            "Train Loss: 0.01454213713096657, Validation Loss: 0.03777150208623402, Accuracy: 98.86%\n"
          ]
        },
        {
          "output_type": "stream",
          "name": "stderr",
          "text": [
            "Epoch 3:  42%|████▏     | 130/313 [01:35<02:03,  1.48it/s, loss=0.00144]/usr/local/lib/python3.10/dist-packages/PIL/TiffImagePlugin.py:858: UserWarning: Truncated File Read\n",
            "  warnings.warn(str(msg))\n",
            "Epoch 3: 100%|██████████| 313/313 [03:35<00:00,  1.45it/s, loss=0.00329]\n"
          ]
        },
        {
          "output_type": "stream",
          "name": "stdout",
          "text": [
            "Train Loss: 0.01398077093550984, Validation Loss: 0.0483985740556588, Accuracy: 98.56%\n"
          ]
        },
        {
          "output_type": "stream",
          "name": "stderr",
          "text": [
            "Epoch 4:  49%|████▉     | 153/313 [01:52<01:41,  1.57it/s, loss=0.00351]/usr/local/lib/python3.10/dist-packages/PIL/TiffImagePlugin.py:858: UserWarning: Truncated File Read\n",
            "  warnings.warn(str(msg))\n",
            "Epoch 4: 100%|██████████| 313/313 [03:37<00:00,  1.44it/s, loss=0.00106]\n"
          ]
        },
        {
          "output_type": "stream",
          "name": "stdout",
          "text": [
            "Train Loss: 0.011831868276793613, Validation Loss: 0.04640667948004631, Accuracy: 98.74%\n"
          ]
        },
        {
          "output_type": "stream",
          "name": "stderr",
          "text": [
            "Epoch 5:   9%|▉         | 28/313 [00:27<03:08,  1.51it/s, loss=4.79e-5]/usr/local/lib/python3.10/dist-packages/PIL/TiffImagePlugin.py:858: UserWarning: Truncated File Read\n",
            "  warnings.warn(str(msg))\n",
            "Epoch 5: 100%|██████████| 313/313 [03:37<00:00,  1.44it/s, loss=0.00163]\n"
          ]
        },
        {
          "output_type": "stream",
          "name": "stdout",
          "text": [
            "Train Loss: 0.010564866422160316, Validation Loss: 0.038993711368889995, Accuracy: 98.72%\n"
          ]
        },
        {
          "output_type": "stream",
          "name": "stderr",
          "text": [
            "Epoch 6:  81%|████████  | 254/313 [02:59<00:40,  1.47it/s, loss=0.0167]/usr/local/lib/python3.10/dist-packages/PIL/TiffImagePlugin.py:858: UserWarning: Truncated File Read\n",
            "  warnings.warn(str(msg))\n",
            "Epoch 6: 100%|██████████| 313/313 [03:37<00:00,  1.44it/s, loss=0.0132]\n"
          ]
        },
        {
          "output_type": "stream",
          "name": "stdout",
          "text": [
            "Train Loss: 0.011475639268864645, Validation Loss: 0.03770569700166941, Accuracy: 98.86%\n"
          ]
        },
        {
          "output_type": "stream",
          "name": "stderr",
          "text": [
            "Epoch 7:  12%|█▏        | 37/313 [00:33<03:13,  1.42it/s, loss=0.0184]/usr/local/lib/python3.10/dist-packages/PIL/TiffImagePlugin.py:858: UserWarning: Truncated File Read\n",
            "  warnings.warn(str(msg))\n",
            "Epoch 7: 100%|██████████| 313/313 [03:35<00:00,  1.45it/s, loss=0.0585]\n"
          ]
        },
        {
          "output_type": "stream",
          "name": "stdout",
          "text": [
            "Train Loss: 0.007783775406581796, Validation Loss: 0.04120445605912198, Accuracy: 98.92%\n"
          ]
        },
        {
          "output_type": "stream",
          "name": "stderr",
          "text": [
            "Epoch 8:  57%|█████▋    | 178/313 [02:08<01:26,  1.56it/s, loss=0.00336]/usr/local/lib/python3.10/dist-packages/PIL/TiffImagePlugin.py:858: UserWarning: Truncated File Read\n",
            "  warnings.warn(str(msg))\n",
            "Epoch 8: 100%|██████████| 313/313 [03:37<00:00,  1.44it/s, loss=0.000182]\n"
          ]
        },
        {
          "output_type": "stream",
          "name": "stdout",
          "text": [
            "Train Loss: 0.011558684469453934, Validation Loss: 0.03666974159435235, Accuracy: 99.02%\n"
          ]
        },
        {
          "output_type": "stream",
          "name": "stderr",
          "text": [
            "Epoch 9:  54%|█████▎    | 168/313 [02:00<01:36,  1.50it/s, loss=0.000113]/usr/local/lib/python3.10/dist-packages/PIL/TiffImagePlugin.py:858: UserWarning: Truncated File Read\n",
            "  warnings.warn(str(msg))\n",
            "Epoch 9: 100%|██████████| 313/313 [03:35<00:00,  1.45it/s, loss=0.000205]\n"
          ]
        },
        {
          "output_type": "stream",
          "name": "stdout",
          "text": [
            "Train Loss: 0.006937613680259582, Validation Loss: 0.038821184550791, Accuracy: 99.0%\n"
          ]
        },
        {
          "output_type": "stream",
          "name": "stderr",
          "text": [
            "Epoch 10:  34%|███▍      | 106/313 [01:20<02:14,  1.54it/s, loss=0.00166]/usr/local/lib/python3.10/dist-packages/PIL/TiffImagePlugin.py:858: UserWarning: Truncated File Read\n",
            "  warnings.warn(str(msg))\n",
            "Epoch 10: 100%|██████████| 313/313 [03:37<00:00,  1.44it/s, loss=0.00548]\n"
          ]
        },
        {
          "output_type": "stream",
          "name": "stdout",
          "text": [
            "Train Loss: 0.007968487771251555, Validation Loss: 0.05228892566665337, Accuracy: 98.86%\n"
          ]
        },
        {
          "output_type": "stream",
          "name": "stderr",
          "text": [
            "Epoch 11:  65%|██████▍   | 203/313 [02:24<01:11,  1.55it/s, loss=0.00109]/usr/local/lib/python3.10/dist-packages/PIL/TiffImagePlugin.py:858: UserWarning: Truncated File Read\n",
            "  warnings.warn(str(msg))\n",
            "Epoch 11: 100%|██████████| 313/313 [03:36<00:00,  1.45it/s, loss=0.00129]\n"
          ]
        },
        {
          "output_type": "stream",
          "name": "stdout",
          "text": [
            "Train Loss: 0.009374558202911991, Validation Loss: 0.06152579045581522, Accuracy: 97.96%\n"
          ]
        },
        {
          "output_type": "stream",
          "name": "stderr",
          "text": [
            "Epoch 12:  61%|██████    | 191/313 [02:16<01:23,  1.45it/s, loss=0.00515]/usr/local/lib/python3.10/dist-packages/PIL/TiffImagePlugin.py:858: UserWarning: Truncated File Read\n",
            "  warnings.warn(str(msg))\n",
            "Epoch 12: 100%|██████████| 313/313 [03:35<00:00,  1.46it/s, loss=0.00656]\n"
          ]
        },
        {
          "output_type": "stream",
          "name": "stdout",
          "text": [
            "Train Loss: 0.008808890097434153, Validation Loss: 0.05259527400633565, Accuracy: 98.64%\n"
          ]
        },
        {
          "output_type": "stream",
          "name": "stderr",
          "text": [
            "Epoch 13:  10%|█         | 32/313 [00:30<03:21,  1.39it/s, loss=0.00846]/usr/local/lib/python3.10/dist-packages/PIL/TiffImagePlugin.py:858: UserWarning: Truncated File Read\n",
            "  warnings.warn(str(msg))\n",
            "Epoch 13: 100%|██████████| 313/313 [03:36<00:00,  1.45it/s, loss=0.0367]\n"
          ]
        },
        {
          "output_type": "stream",
          "name": "stdout",
          "text": [
            "Train Loss: 0.008338230535721082, Validation Loss: 0.04149334765863654, Accuracy: 98.64%\n"
          ]
        },
        {
          "output_type": "stream",
          "name": "stderr",
          "text": [
            "Epoch 14:  61%|██████    | 190/313 [02:15<01:20,  1.53it/s, loss=0.000394]/usr/local/lib/python3.10/dist-packages/PIL/TiffImagePlugin.py:858: UserWarning: Truncated File Read\n",
            "  warnings.warn(str(msg))\n",
            "Epoch 14: 100%|██████████| 313/313 [03:35<00:00,  1.45it/s, loss=0.000388]\n"
          ]
        },
        {
          "output_type": "stream",
          "name": "stdout",
          "text": [
            "Train Loss: 0.006016587975384068, Validation Loss: 0.052758230879328065, Accuracy: 98.58%\n"
          ]
        },
        {
          "output_type": "stream",
          "name": "stderr",
          "text": [
            "Epoch 15:  17%|█▋        | 54/313 [00:43<02:52,  1.51it/s, loss=4.46e-5]/usr/local/lib/python3.10/dist-packages/PIL/TiffImagePlugin.py:858: UserWarning: Truncated File Read\n",
            "  warnings.warn(str(msg))\n",
            "Epoch 15: 100%|██████████| 313/313 [03:34<00:00,  1.46it/s, loss=6.31e-6]\n"
          ]
        },
        {
          "output_type": "stream",
          "name": "stdout",
          "text": [
            "Train Loss: 0.002490289209380006, Validation Loss: 0.08697350929232091, Accuracy: 98.42%\n",
            "Loaders created\n",
            "Using the EfficientNet model\n",
            "Classifier for model has been changed.\n",
            "Transfer learning method: fine_tuning applied.\n",
            "Training starts\n",
            "Liczba zamrożonych parametrów: 4007548\n",
            "Liczba niezamrożonych parametrów: 2562\n"
          ]
        },
        {
          "output_type": "stream",
          "name": "stderr",
          "text": [
            "Epoch 1:  26%|██▌       | 80/313 [03:03<00:49,  4.71it/s, loss=0.193]/usr/local/lib/python3.10/dist-packages/PIL/TiffImagePlugin.py:858: UserWarning: Truncated File Read\n",
            "  warnings.warn(str(msg))\n",
            "Epoch 1: 100%|██████████| 313/313 [04:46<00:00,  1.09it/s, loss=0.117]\n"
          ]
        },
        {
          "output_type": "stream",
          "name": "stdout",
          "text": [
            "Train Loss: 0.1754685597369275, Validation Loss: 0.09496451791705965, Accuracy: 96.96%\n"
          ]
        },
        {
          "output_type": "stream",
          "name": "stderr",
          "text": [
            "\rEpoch 2:   0%|          | 0/313 [00:00<?, ?it/s]/usr/local/lib/python3.10/dist-packages/PIL/TiffImagePlugin.py:858: UserWarning: Truncated File Read\n",
            "  warnings.warn(str(msg))\n",
            "Epoch 2: 100%|██████████| 313/313 [02:20<00:00,  2.23it/s, loss=0.0857]\n"
          ]
        },
        {
          "output_type": "stream",
          "name": "stdout",
          "text": [
            "Train Loss: 0.11424641805096937, Validation Loss: 0.08123935138971745, Accuracy: 97.18%\n"
          ]
        },
        {
          "output_type": "stream",
          "name": "stderr",
          "text": [
            "Epoch 3:   5%|▌         | 16/313 [00:11<01:02,  4.77it/s, loss=0.127]/usr/local/lib/python3.10/dist-packages/PIL/TiffImagePlugin.py:858: UserWarning: Truncated File Read\n",
            "  warnings.warn(str(msg))\n",
            "Epoch 3: 100%|██████████| 313/313 [02:19<00:00,  2.24it/s, loss=0.0827]\n"
          ]
        },
        {
          "output_type": "stream",
          "name": "stdout",
          "text": [
            "Train Loss: 0.10600956302052869, Validation Loss: 0.074668230418163, Accuracy: 97.24%\n"
          ]
        },
        {
          "output_type": "stream",
          "name": "stderr",
          "text": [
            "Epoch 4:  31%|███       | 96/313 [00:44<00:27,  7.82it/s, loss=0.0484]/usr/local/lib/python3.10/dist-packages/PIL/TiffImagePlugin.py:858: UserWarning: Truncated File Read\n",
            "  warnings.warn(str(msg))\n",
            "Epoch 4: 100%|██████████| 313/313 [02:16<00:00,  2.30it/s, loss=0.089]\n"
          ]
        },
        {
          "output_type": "stream",
          "name": "stdout",
          "text": [
            "Train Loss: 0.10144612798913599, Validation Loss: 0.07533488565277827, Accuracy: 97.06%\n"
          ]
        },
        {
          "output_type": "stream",
          "name": "stderr",
          "text": [
            "\rEpoch 5:   0%|          | 0/313 [00:00<?, ?it/s]/usr/local/lib/python3.10/dist-packages/PIL/TiffImagePlugin.py:858: UserWarning: Truncated File Read\n",
            "  warnings.warn(str(msg))\n",
            "Epoch 5: 100%|██████████| 313/313 [02:15<00:00,  2.30it/s, loss=0.0233]\n"
          ]
        },
        {
          "output_type": "stream",
          "name": "stdout",
          "text": [
            "Train Loss: 0.10098804020510314, Validation Loss: 0.07145449108903922, Accuracy: 97.2%\n"
          ]
        },
        {
          "output_type": "stream",
          "name": "stderr",
          "text": [
            "Epoch 6:  56%|█████▌    | 176/313 [01:21<00:22,  6.21it/s, loss=0.098]/usr/local/lib/python3.10/dist-packages/PIL/TiffImagePlugin.py:858: UserWarning: Truncated File Read\n",
            "  warnings.warn(str(msg))\n",
            "Epoch 6: 100%|██████████| 313/313 [02:20<00:00,  2.23it/s, loss=0.0468]\n"
          ]
        },
        {
          "output_type": "stream",
          "name": "stdout",
          "text": [
            "Train Loss: 0.09710240625321104, Validation Loss: 0.07140215637185905, Accuracy: 97.08%\n"
          ]
        },
        {
          "output_type": "stream",
          "name": "stderr",
          "text": [
            "Epoch 7:  26%|██▌       | 80/313 [00:41<01:16,  3.05it/s, loss=0.0522]/usr/local/lib/python3.10/dist-packages/PIL/TiffImagePlugin.py:858: UserWarning: Truncated File Read\n",
            "  warnings.warn(str(msg))\n",
            "Epoch 7: 100%|██████████| 313/313 [02:20<00:00,  2.23it/s, loss=0.0215]\n"
          ]
        },
        {
          "output_type": "stream",
          "name": "stdout",
          "text": [
            "Train Loss: 0.0984991954538388, Validation Loss: 0.07131700001987099, Accuracy: 97.12%\n"
          ]
        },
        {
          "output_type": "stream",
          "name": "stderr",
          "text": [
            "Epoch 8:  56%|█████▌    | 176/313 [01:19<00:23,  5.87it/s, loss=0.0749]/usr/local/lib/python3.10/dist-packages/PIL/TiffImagePlugin.py:858: UserWarning: Truncated File Read\n",
            "  warnings.warn(str(msg))\n",
            "Epoch 8: 100%|██████████| 313/313 [02:19<00:00,  2.24it/s, loss=0.113]\n"
          ]
        },
        {
          "output_type": "stream",
          "name": "stdout",
          "text": [
            "Train Loss: 0.095479038302986, Validation Loss: 0.06974173298317797, Accuracy: 97.24%\n"
          ]
        },
        {
          "output_type": "stream",
          "name": "stderr",
          "text": [
            "Epoch 9:   5%|▌         | 16/313 [00:09<00:40,  7.41it/s, loss=0.145]/usr/local/lib/python3.10/dist-packages/PIL/TiffImagePlugin.py:858: UserWarning: Truncated File Read\n",
            "  warnings.warn(str(msg))\n",
            "Epoch 9: 100%|██████████| 313/313 [02:20<00:00,  2.23it/s, loss=0.203]\n"
          ]
        },
        {
          "output_type": "stream",
          "name": "stdout",
          "text": [
            "Train Loss: 0.0980744167519644, Validation Loss: 0.07055074543562494, Accuracy: 97.26%\n"
          ]
        },
        {
          "output_type": "stream",
          "name": "stderr",
          "text": [
            "Epoch 10:  61%|██████▏   | 192/313 [01:28<00:25,  4.72it/s, loss=0.0813]/usr/local/lib/python3.10/dist-packages/PIL/TiffImagePlugin.py:858: UserWarning: Truncated File Read\n",
            "  warnings.warn(str(msg))\n",
            "Epoch 10: 100%|██████████| 313/313 [02:20<00:00,  2.23it/s, loss=0.235]\n"
          ]
        },
        {
          "output_type": "stream",
          "name": "stdout",
          "text": [
            "Train Loss: 0.09544672135906383, Validation Loss: 0.07583287391292898, Accuracy: 97.0%\n"
          ]
        },
        {
          "output_type": "stream",
          "name": "stderr",
          "text": [
            "Epoch 11:  97%|█████████▋| 304/313 [02:12<00:01,  6.92it/s, loss=0.0628]/usr/local/lib/python3.10/dist-packages/PIL/TiffImagePlugin.py:858: UserWarning: Truncated File Read\n",
            "  warnings.warn(str(msg))\n",
            "Epoch 11: 100%|██████████| 313/313 [02:15<00:00,  2.31it/s, loss=0.142]\n"
          ]
        },
        {
          "output_type": "stream",
          "name": "stdout",
          "text": [
            "Train Loss: 0.0985723801266652, Validation Loss: 0.07134854973918653, Accuracy: 97.1%\n"
          ]
        },
        {
          "output_type": "stream",
          "name": "stderr",
          "text": [
            "Epoch 12:  88%|████████▊ | 274/313 [02:03<00:32,  1.19it/s, loss=0.112]/usr/local/lib/python3.10/dist-packages/PIL/TiffImagePlugin.py:858: UserWarning: Truncated File Read\n",
            "  warnings.warn(str(msg))\n",
            "Epoch 12: 100%|██████████| 313/313 [02:15<00:00,  2.30it/s, loss=0.183]\n"
          ]
        },
        {
          "output_type": "stream",
          "name": "stdout",
          "text": [
            "Train Loss: 0.09687477954850791, Validation Loss: 0.07223657279310725, Accuracy: 97.1%\n"
          ]
        },
        {
          "output_type": "stream",
          "name": "stderr",
          "text": [
            "Epoch 13:  51%|█████     | 160/313 [01:14<00:21,  7.14it/s, loss=0.0382]/usr/local/lib/python3.10/dist-packages/PIL/TiffImagePlugin.py:858: UserWarning: Truncated File Read\n",
            "  warnings.warn(str(msg))\n",
            "Epoch 13: 100%|██████████| 313/313 [02:16<00:00,  2.29it/s, loss=0.0837]\n"
          ]
        },
        {
          "output_type": "stream",
          "name": "stdout",
          "text": [
            "Train Loss: 0.09276787574870136, Validation Loss: 0.07228351966772653, Accuracy: 97.06%\n"
          ]
        },
        {
          "output_type": "stream",
          "name": "stderr",
          "text": [
            "Epoch 14:  89%|████████▉ | 278/313 [02:12<00:25,  1.35it/s, loss=0.081]/usr/local/lib/python3.10/dist-packages/PIL/TiffImagePlugin.py:858: UserWarning: Truncated File Read\n",
            "  warnings.warn(str(msg))\n",
            "Epoch 14: 100%|██████████| 313/313 [02:23<00:00,  2.17it/s, loss=0.133]\n"
          ]
        },
        {
          "output_type": "stream",
          "name": "stdout",
          "text": [
            "Train Loss: 0.09389487351067721, Validation Loss: 0.07345826758802691, Accuracy: 97.06%\n"
          ]
        },
        {
          "output_type": "stream",
          "name": "stderr",
          "text": [
            "Epoch 15:  77%|███████▋  | 241/313 [01:48<00:53,  1.34it/s, loss=0.0976]/usr/local/lib/python3.10/dist-packages/PIL/TiffImagePlugin.py:858: UserWarning: Truncated File Read\n",
            "  warnings.warn(str(msg))\n",
            "Epoch 15: 100%|██████████| 313/313 [02:20<00:00,  2.23it/s, loss=0.0676]\n"
          ]
        },
        {
          "output_type": "stream",
          "name": "stdout",
          "text": [
            "Train Loss: 0.09294484351603939, Validation Loss: 0.07183675209791222, Accuracy: 97.16%\n",
            "Fine tuning applied. Learning rate:  0.0001\n",
            "Liczba zamrożonych parametrów: 0\n",
            "Liczba niezamrożonych parametrów: 4010110\n"
          ]
        },
        {
          "output_type": "stream",
          "name": "stderr",
          "text": [
            "Epoch 1:  56%|█████▌    | 176/313 [01:34<00:47,  2.86it/s, loss=0.0242]/usr/local/lib/python3.10/dist-packages/PIL/TiffImagePlugin.py:858: UserWarning: Truncated File Read\n",
            "  warnings.warn(str(msg))\n",
            "Epoch 1: 100%|██████████| 313/313 [02:42<00:00,  1.92it/s, loss=0.116]\n"
          ]
        },
        {
          "output_type": "stream",
          "name": "stdout",
          "text": [
            "Train Loss: 0.061848564501167436, Validation Loss: 0.036680846650424544, Accuracy: 98.66%\n"
          ]
        },
        {
          "output_type": "stream",
          "name": "stderr",
          "text": [
            "Epoch 2:  60%|██████    | 189/313 [01:42<00:42,  2.91it/s, loss=0.0061]/usr/local/lib/python3.10/dist-packages/PIL/TiffImagePlugin.py:858: UserWarning: Truncated File Read\n",
            "  warnings.warn(str(msg))\n",
            "Epoch 2: 100%|██████████| 313/313 [02:40<00:00,  1.95it/s, loss=0.000131]\n"
          ]
        },
        {
          "output_type": "stream",
          "name": "stdout",
          "text": [
            "Train Loss: 0.021028702279992442, Validation Loss: 0.03145684899329031, Accuracy: 99.06%\n"
          ]
        },
        {
          "output_type": "stream",
          "name": "stderr",
          "text": [
            "Epoch 3:   4%|▎         | 11/313 [00:11<02:17,  2.19it/s, loss=0.00228]/usr/local/lib/python3.10/dist-packages/PIL/TiffImagePlugin.py:858: UserWarning: Truncated File Read\n",
            "  warnings.warn(str(msg))\n",
            "Epoch 3: 100%|██████████| 313/313 [02:41<00:00,  1.94it/s, loss=0.0434]\n"
          ]
        },
        {
          "output_type": "stream",
          "name": "stdout",
          "text": [
            "Train Loss: 0.011540448926167917, Validation Loss: 0.034787696174123396, Accuracy: 99.02%\n"
          ]
        },
        {
          "output_type": "stream",
          "name": "stderr",
          "text": [
            "Epoch 4:  22%|██▏       | 70/313 [00:45<01:43,  2.35it/s, loss=0.00188]/usr/local/lib/python3.10/dist-packages/PIL/TiffImagePlugin.py:858: UserWarning: Truncated File Read\n",
            "  warnings.warn(str(msg))\n",
            "Epoch 4: 100%|██████████| 313/313 [02:43<00:00,  1.91it/s, loss=0.135]\n"
          ]
        },
        {
          "output_type": "stream",
          "name": "stdout",
          "text": [
            "Train Loss: 0.008443607376645382, Validation Loss: 0.03801588443180847, Accuracy: 98.98%\n"
          ]
        },
        {
          "output_type": "stream",
          "name": "stderr",
          "text": [
            "Epoch 5:  28%|██▊       | 89/313 [00:50<01:52,  1.98it/s, loss=0.0227]/usr/local/lib/python3.10/dist-packages/PIL/TiffImagePlugin.py:858: UserWarning: Truncated File Read\n",
            "  warnings.warn(str(msg))\n",
            "Epoch 5: 100%|██████████| 313/313 [02:45<00:00,  1.89it/s, loss=0.00663]\n"
          ]
        },
        {
          "output_type": "stream",
          "name": "stdout",
          "text": [
            "Train Loss: 0.005861884489252969, Validation Loss: 0.03730659106491381, Accuracy: 99.0%\n"
          ]
        },
        {
          "output_type": "stream",
          "name": "stderr",
          "text": [
            "Epoch 6:  41%|████      | 128/313 [01:11<01:09,  2.65it/s, loss=0.00181]/usr/local/lib/python3.10/dist-packages/PIL/TiffImagePlugin.py:858: UserWarning: Truncated File Read\n",
            "  warnings.warn(str(msg))\n",
            "Epoch 6: 100%|██████████| 313/313 [02:42<00:00,  1.92it/s, loss=0.000945]\n"
          ]
        },
        {
          "output_type": "stream",
          "name": "stdout",
          "text": [
            "Train Loss: 0.006910918701589962, Validation Loss: 0.034274040191777676, Accuracy: 99.14%\n"
          ]
        },
        {
          "output_type": "stream",
          "name": "stderr",
          "text": [
            "Epoch 7:  38%|███▊      | 119/313 [01:08<01:24,  2.29it/s, loss=3.8e-5]/usr/local/lib/python3.10/dist-packages/PIL/TiffImagePlugin.py:858: UserWarning: Truncated File Read\n",
            "  warnings.warn(str(msg))\n",
            "Epoch 7: 100%|██████████| 313/313 [02:43<00:00,  1.91it/s, loss=0.251]\n"
          ]
        },
        {
          "output_type": "stream",
          "name": "stdout",
          "text": [
            "Train Loss: 0.004845417300371358, Validation Loss: 0.03847215683688059, Accuracy: 98.98%\n"
          ]
        },
        {
          "output_type": "stream",
          "name": "stderr",
          "text": [
            "Epoch 8:  56%|█████▌    | 174/313 [01:33<00:59,  2.35it/s, loss=0.00221]/usr/local/lib/python3.10/dist-packages/PIL/TiffImagePlugin.py:858: UserWarning: Truncated File Read\n",
            "  warnings.warn(str(msg))\n",
            "Epoch 8: 100%|██████████| 313/313 [02:42<00:00,  1.92it/s, loss=0.0266]\n"
          ]
        },
        {
          "output_type": "stream",
          "name": "stdout",
          "text": [
            "Train Loss: 0.0059924510207431956, Validation Loss: 0.04073826297600953, Accuracy: 99.02%\n"
          ]
        },
        {
          "output_type": "stream",
          "name": "stderr",
          "text": [
            "Epoch 9:  17%|█▋        | 54/313 [00:38<02:07,  2.03it/s, loss=0.000159]/usr/local/lib/python3.10/dist-packages/PIL/TiffImagePlugin.py:858: UserWarning: Truncated File Read\n",
            "  warnings.warn(str(msg))\n",
            "Epoch 9: 100%|██████████| 313/313 [02:44<00:00,  1.90it/s, loss=7.78e-5]\n"
          ]
        },
        {
          "output_type": "stream",
          "name": "stdout",
          "text": [
            "Train Loss: 0.0040998197410353114, Validation Loss: 0.03980059679606366, Accuracy: 99.1%\n"
          ]
        },
        {
          "output_type": "stream",
          "name": "stderr",
          "text": [
            "Epoch 10:  96%|█████████▌| 301/313 [02:33<00:04,  2.43it/s, loss=0.00125]/usr/local/lib/python3.10/dist-packages/PIL/TiffImagePlugin.py:858: UserWarning: Truncated File Read\n",
            "  warnings.warn(str(msg))\n",
            "Epoch 10: 100%|██████████| 313/313 [02:39<00:00,  1.97it/s, loss=0.000578]\n"
          ]
        },
        {
          "output_type": "stream",
          "name": "stdout",
          "text": [
            "Train Loss: 0.0033078566334973636, Validation Loss: 0.036438788750803974, Accuracy: 99.12%\n"
          ]
        },
        {
          "output_type": "stream",
          "name": "stderr",
          "text": [
            "Epoch 11:  86%|████████▌ | 269/313 [02:25<00:15,  2.78it/s, loss=0.000371]/usr/local/lib/python3.10/dist-packages/PIL/TiffImagePlugin.py:858: UserWarning: Truncated File Read\n",
            "  warnings.warn(str(msg))\n",
            "Epoch 11: 100%|██████████| 313/313 [02:44<00:00,  1.91it/s, loss=0.0222]\n"
          ]
        },
        {
          "output_type": "stream",
          "name": "stdout",
          "text": [
            "Train Loss: 0.002816941910017945, Validation Loss: 0.04043993610412144, Accuracy: 99.1%\n"
          ]
        },
        {
          "output_type": "stream",
          "name": "stderr",
          "text": [
            "Epoch 12:   1%|          | 2/313 [00:07<16:47,  3.24s/it, loss=0.000463]/usr/local/lib/python3.10/dist-packages/PIL/TiffImagePlugin.py:858: UserWarning: Truncated File Read\n",
            "  warnings.warn(str(msg))\n",
            "Epoch 12: 100%|██████████| 313/313 [02:43<00:00,  1.91it/s, loss=3.41e-5]\n"
          ]
        },
        {
          "output_type": "stream",
          "name": "stdout",
          "text": [
            "Train Loss: 0.0024437289145100133, Validation Loss: 0.039241164302128005, Accuracy: 99.24%\n"
          ]
        },
        {
          "output_type": "stream",
          "name": "stderr",
          "text": [
            "Epoch 13:  30%|███       | 94/313 [00:50<01:17,  2.81it/s, loss=6.75e-5]/usr/local/lib/python3.10/dist-packages/PIL/TiffImagePlugin.py:858: UserWarning: Truncated File Read\n",
            "  warnings.warn(str(msg))\n",
            "Epoch 13: 100%|██████████| 313/313 [02:39<00:00,  1.96it/s, loss=0.000189]\n"
          ]
        },
        {
          "output_type": "stream",
          "name": "stdout",
          "text": [
            "Train Loss: 0.002679311901718661, Validation Loss: 0.03846510274208321, Accuracy: 99.14%\n"
          ]
        },
        {
          "output_type": "stream",
          "name": "stderr",
          "text": [
            "Epoch 14:  14%|█▍        | 44/313 [00:27<01:36,  2.78it/s, loss=0.00141]/usr/local/lib/python3.10/dist-packages/PIL/TiffImagePlugin.py:858: UserWarning: Truncated File Read\n",
            "  warnings.warn(str(msg))\n",
            "Epoch 14: 100%|██████████| 313/313 [02:42<00:00,  1.92it/s, loss=5.77e-6]\n"
          ]
        },
        {
          "output_type": "stream",
          "name": "stdout",
          "text": [
            "Train Loss: 0.002698058161025854, Validation Loss: 0.048242967097187776, Accuracy: 98.94%\n"
          ]
        },
        {
          "output_type": "stream",
          "name": "stderr",
          "text": [
            "Epoch 15:  32%|███▏      | 100/313 [00:58<01:45,  2.02it/s, loss=0.000674]/usr/local/lib/python3.10/dist-packages/PIL/TiffImagePlugin.py:858: UserWarning: Truncated File Read\n",
            "  warnings.warn(str(msg))\n",
            "Epoch 15: 100%|██████████| 313/313 [02:41<00:00,  1.94it/s, loss=3.38e-7]\n"
          ]
        },
        {
          "output_type": "stream",
          "name": "stdout",
          "text": [
            "Train Loss: 0.0032888543003370156, Validation Loss: 0.04490212847304676, Accuracy: 99.04%\n",
            "Using the hats-vs-nohats dataset.\n",
            "Using the classic_tl method\n",
            "Loaders created\n",
            "Using the VGG model\n",
            "Classifier for model has been changed.\n",
            "Transfer learning method: classic_tl applied.\n",
            "Training starts\n",
            "Liczba zamrożonych parametrów: 14714688\n",
            "Liczba niezamrożonych parametrów: 119554050\n"
          ]
        },
        {
          "output_type": "stream",
          "name": "stderr",
          "text": [
            "Epoch 1: 100%|██████████| 85/85 [02:06<00:00,  1.49s/it, loss=0.0756]\n"
          ]
        },
        {
          "output_type": "stream",
          "name": "stdout",
          "text": [
            "Train Loss: 0.26561917425955045, Validation Loss: 0.07260118547657674, Accuracy: 98.0%\n"
          ]
        },
        {
          "output_type": "stream",
          "name": "stderr",
          "text": [
            "Epoch 2: 100%|██████████| 85/85 [00:39<00:00,  2.13it/s, loss=0.189]\n"
          ]
        },
        {
          "output_type": "stream",
          "name": "stdout",
          "text": [
            "Train Loss: 0.049411295587196945, Validation Loss: 0.07402123762585688, Accuracy: 98.07407407407408%\n"
          ]
        },
        {
          "output_type": "stream",
          "name": "stderr",
          "text": [
            "Epoch 3: 100%|██████████| 85/85 [00:44<00:00,  1.93it/s, loss=0.00189]\n"
          ]
        },
        {
          "output_type": "stream",
          "name": "stdout",
          "text": [
            "Train Loss: 0.0290235555230859, Validation Loss: 0.06909126272578513, Accuracy: 98.29629629629629%\n"
          ]
        },
        {
          "output_type": "stream",
          "name": "stderr",
          "text": [
            "Epoch 4: 100%|██████████| 85/85 [00:40<00:00,  2.10it/s, loss=0.0204]\n"
          ]
        },
        {
          "output_type": "stream",
          "name": "stdout",
          "text": [
            "Train Loss: 0.018866144839900217, Validation Loss: 0.07943888178107789, Accuracy: 97.85185185185185%\n"
          ]
        },
        {
          "output_type": "stream",
          "name": "stderr",
          "text": [
            "Epoch 5: 100%|██████████| 85/85 [00:44<00:00,  1.92it/s, loss=1.04e-6]\n"
          ]
        },
        {
          "output_type": "stream",
          "name": "stdout",
          "text": [
            "Train Loss: 0.0172583099899197, Validation Loss: 0.10651972360078203, Accuracy: 98.22222222222223%\n"
          ]
        },
        {
          "output_type": "stream",
          "name": "stderr",
          "text": [
            "Epoch 6: 100%|██████████| 85/85 [00:43<00:00,  1.94it/s, loss=0.000209]\n"
          ]
        },
        {
          "output_type": "stream",
          "name": "stdout",
          "text": [
            "Train Loss: 0.022721684102896902, Validation Loss: 0.08749259031570876, Accuracy: 98.44444444444444%\n"
          ]
        },
        {
          "output_type": "stream",
          "name": "stderr",
          "text": [
            "Epoch 7: 100%|██████████| 85/85 [00:40<00:00,  2.08it/s, loss=0.000137]\n"
          ]
        },
        {
          "output_type": "stream",
          "name": "stdout",
          "text": [
            "Train Loss: 0.016888935740783328, Validation Loss: 0.10807011805726771, Accuracy: 98.29629629629629%\n"
          ]
        },
        {
          "output_type": "stream",
          "name": "stderr",
          "text": [
            "Epoch 8: 100%|██████████| 85/85 [00:46<00:00,  1.82it/s, loss=0.000623]\n"
          ]
        },
        {
          "output_type": "stream",
          "name": "stdout",
          "text": [
            "Train Loss: 0.010166527544812625, Validation Loss: 0.12541116808690525, Accuracy: 98.22222222222223%\n"
          ]
        },
        {
          "output_type": "stream",
          "name": "stderr",
          "text": [
            "Epoch 9: 100%|██████████| 85/85 [00:43<00:00,  1.94it/s, loss=1.76e-7]\n"
          ]
        },
        {
          "output_type": "stream",
          "name": "stdout",
          "text": [
            "Train Loss: 0.02125458943974449, Validation Loss: 0.22774196640402652, Accuracy: 96.66666666666667%\n"
          ]
        },
        {
          "output_type": "stream",
          "name": "stderr",
          "text": [
            "Epoch 10: 100%|██████████| 85/85 [00:41<00:00,  2.04it/s, loss=1.47e-6]\n"
          ]
        },
        {
          "output_type": "stream",
          "name": "stdout",
          "text": [
            "Train Loss: 0.008442443292058082, Validation Loss: 0.12274761998222578, Accuracy: 98.44444444444444%\n"
          ]
        },
        {
          "output_type": "stream",
          "name": "stderr",
          "text": [
            "Epoch 11: 100%|██████████| 85/85 [00:46<00:00,  1.84it/s, loss=5.88e-5]\n"
          ]
        },
        {
          "output_type": "stream",
          "name": "stdout",
          "text": [
            "Train Loss: 0.008392601247003447, Validation Loss: 0.13704391228353333, Accuracy: 98.37037037037037%\n"
          ]
        },
        {
          "output_type": "stream",
          "name": "stderr",
          "text": [
            "Epoch 12: 100%|██████████| 85/85 [00:44<00:00,  1.93it/s, loss=0.355]\n"
          ]
        },
        {
          "output_type": "stream",
          "name": "stdout",
          "text": [
            "Train Loss: 0.045281873064971695, Validation Loss: 0.35263343332784963, Accuracy: 95.03703703703704%\n"
          ]
        },
        {
          "output_type": "stream",
          "name": "stderr",
          "text": [
            "Epoch 13: 100%|██████████| 85/85 [00:41<00:00,  2.04it/s, loss=0.00629]\n"
          ]
        },
        {
          "output_type": "stream",
          "name": "stdout",
          "text": [
            "Train Loss: 0.029234509802571505, Validation Loss: 0.11263540069313552, Accuracy: 98.22222222222223%\n"
          ]
        },
        {
          "output_type": "stream",
          "name": "stderr",
          "text": [
            "Epoch 14: 100%|██████████| 85/85 [00:46<00:00,  1.83it/s, loss=2.86e-5]\n"
          ]
        },
        {
          "output_type": "stream",
          "name": "stdout",
          "text": [
            "Train Loss: 0.0028970029354020294, Validation Loss: 0.1473325974310197, Accuracy: 98.66666666666667%\n"
          ]
        },
        {
          "output_type": "stream",
          "name": "stderr",
          "text": [
            "Epoch 15: 100%|██████████| 85/85 [00:41<00:00,  2.03it/s, loss=1.45e-7]\n"
          ]
        },
        {
          "output_type": "stream",
          "name": "stdout",
          "text": [
            "Train Loss: 0.008261205338296369, Validation Loss: 0.23116117691428026, Accuracy: 98.0%\n",
            "Second phase started. Learning rate:  0.001\n",
            "Liczba zamrożonych parametrów: 14714688\n",
            "Liczba niezamrożonych parametrów: 119554050\n"
          ]
        },
        {
          "output_type": "stream",
          "name": "stderr",
          "text": [
            "Epoch 1: 100%|██████████| 85/85 [00:40<00:00,  2.09it/s, loss=0.00429]\n"
          ]
        },
        {
          "output_type": "stream",
          "name": "stdout",
          "text": [
            "Train Loss: 0.02864404492704396, Validation Loss: 0.2658084330748348, Accuracy: 96.88888888888889%\n"
          ]
        },
        {
          "output_type": "stream",
          "name": "stderr",
          "text": [
            "Epoch 2: 100%|██████████| 85/85 [00:45<00:00,  1.87it/s, loss=0.000261]\n"
          ]
        },
        {
          "output_type": "stream",
          "name": "stdout",
          "text": [
            "Train Loss: 0.009550684038492149, Validation Loss: 0.13674047907784564, Accuracy: 98.29629629629629%\n"
          ]
        },
        {
          "output_type": "stream",
          "name": "stderr",
          "text": [
            "Epoch 3: 100%|██████████| 85/85 [00:40<00:00,  2.10it/s, loss=4.56e-7]\n"
          ]
        },
        {
          "output_type": "stream",
          "name": "stdout",
          "text": [
            "Train Loss: 0.0033376014031853843, Validation Loss: 0.1343637382166724, Accuracy: 98.51851851851852%\n"
          ]
        },
        {
          "output_type": "stream",
          "name": "stderr",
          "text": [
            "Epoch 4: 100%|██████████| 85/85 [00:41<00:00,  2.06it/s, loss=1.06e-5]\n"
          ]
        },
        {
          "output_type": "stream",
          "name": "stdout",
          "text": [
            "Train Loss: 0.012700949962985382, Validation Loss: 0.2098514333243987, Accuracy: 98.44444444444444%\n"
          ]
        },
        {
          "output_type": "stream",
          "name": "stderr",
          "text": [
            "Epoch 5: 100%|██████████| 85/85 [00:46<00:00,  1.84it/s, loss=0.0711]\n"
          ]
        },
        {
          "output_type": "stream",
          "name": "stdout",
          "text": [
            "Train Loss: 0.018161595488290345, Validation Loss: 0.19302992314843756, Accuracy: 98.29629629629629%\n"
          ]
        },
        {
          "output_type": "stream",
          "name": "stderr",
          "text": [
            "Epoch 6: 100%|██████████| 85/85 [00:41<00:00,  2.06it/s, loss=3.11e-8]\n"
          ]
        },
        {
          "output_type": "stream",
          "name": "stdout",
          "text": [
            "Train Loss: 0.010459452380052003, Validation Loss: 0.18691555024878637, Accuracy: 98.29629629629629%\n"
          ]
        },
        {
          "output_type": "stream",
          "name": "stderr",
          "text": [
            "Epoch 7: 100%|██████████| 85/85 [00:41<00:00,  2.07it/s, loss=9.22e-5]\n"
          ]
        },
        {
          "output_type": "stream",
          "name": "stdout",
          "text": [
            "Train Loss: 0.005754558039932078, Validation Loss: 0.20463718678014817, Accuracy: 97.70370370370371%\n"
          ]
        },
        {
          "output_type": "stream",
          "name": "stderr",
          "text": [
            "Epoch 8: 100%|██████████| 85/85 [00:46<00:00,  1.84it/s, loss=0.0132]\n"
          ]
        },
        {
          "output_type": "stream",
          "name": "stdout",
          "text": [
            "Train Loss: 0.004504872432716991, Validation Loss: 0.1881740787840528, Accuracy: 98.81481481481481%\n"
          ]
        },
        {
          "output_type": "stream",
          "name": "stderr",
          "text": [
            "Epoch 9: 100%|██████████| 85/85 [00:41<00:00,  2.03it/s, loss=5.44e-7]\n"
          ]
        },
        {
          "output_type": "stream",
          "name": "stdout",
          "text": [
            "Train Loss: 0.006185352136480808, Validation Loss: 0.21884918187680133, Accuracy: 98.44444444444444%\n"
          ]
        },
        {
          "output_type": "stream",
          "name": "stderr",
          "text": [
            "Epoch 10: 100%|██████████| 85/85 [00:41<00:00,  2.04it/s, loss=5.24e-5]\n"
          ]
        },
        {
          "output_type": "stream",
          "name": "stdout",
          "text": [
            "Train Loss: 0.00496722328355723, Validation Loss: 0.17411675396250426, Accuracy: 98.5925925925926%\n"
          ]
        },
        {
          "output_type": "stream",
          "name": "stderr",
          "text": [
            "Epoch 11: 100%|██████████| 85/85 [00:46<00:00,  1.82it/s, loss=2.02e-7]\n"
          ]
        },
        {
          "output_type": "stream",
          "name": "stdout",
          "text": [
            "Train Loss: 0.0027903720957020107, Validation Loss: 0.19583105800410294, Accuracy: 98.44444444444444%\n"
          ]
        },
        {
          "output_type": "stream",
          "name": "stderr",
          "text": [
            "Epoch 12: 100%|██████████| 85/85 [00:40<00:00,  2.08it/s, loss=0]\n"
          ]
        },
        {
          "output_type": "stream",
          "name": "stdout",
          "text": [
            "Train Loss: 0.002769788253348824, Validation Loss: 0.23913702909025406, Accuracy: 98.37037037037037%\n"
          ]
        },
        {
          "output_type": "stream",
          "name": "stderr",
          "text": [
            "Epoch 13: 100%|██████████| 85/85 [00:44<00:00,  1.89it/s, loss=1.55e-8]\n"
          ]
        },
        {
          "output_type": "stream",
          "name": "stdout",
          "text": [
            "Train Loss: 0.0034392939345185233, Validation Loss: 0.2336936204898579, Accuracy: 98.29629629629629%\n"
          ]
        },
        {
          "output_type": "stream",
          "name": "stderr",
          "text": [
            "Epoch 14: 100%|██████████| 85/85 [00:43<00:00,  1.96it/s, loss=0.000397]\n"
          ]
        },
        {
          "output_type": "stream",
          "name": "stdout",
          "text": [
            "Train Loss: 0.003938771700390865, Validation Loss: 0.26110764140332987, Accuracy: 97.92592592592592%\n"
          ]
        },
        {
          "output_type": "stream",
          "name": "stderr",
          "text": [
            "Epoch 15: 100%|██████████| 85/85 [00:40<00:00,  2.10it/s, loss=9.69e-6]\n"
          ]
        },
        {
          "output_type": "stream",
          "name": "stdout",
          "text": [
            "Train Loss: 0.011932985204469402, Validation Loss: 0.2440422977666585, Accuracy: 98.44444444444444%\n",
            "Loaders created\n",
            "Using the ResNet model\n",
            "Classifier for model has been changed.\n",
            "Transfer learning method: classic_tl applied.\n",
            "Training starts\n",
            "Liczba zamrożonych parametrów: 23508032\n",
            "Liczba niezamrożonych parametrów: 4098\n"
          ]
        },
        {
          "output_type": "stream",
          "name": "stderr",
          "text": [
            "Epoch 1: 100%|██████████| 85/85 [01:11<00:00,  1.18it/s, loss=0.586]\n"
          ]
        },
        {
          "output_type": "stream",
          "name": "stdout",
          "text": [
            "Train Loss: 0.5779686100342695, Validation Loss: 0.47468468005006964, Accuracy: 81.4074074074074%\n"
          ]
        },
        {
          "output_type": "stream",
          "name": "stderr",
          "text": [
            "Epoch 2: 100%|██████████| 85/85 [00:39<00:00,  2.13it/s, loss=0.376]\n"
          ]
        },
        {
          "output_type": "stream",
          "name": "stdout",
          "text": [
            "Train Loss: 0.4432039292419658, Validation Loss: 0.39580851928754285, Accuracy: 87.25925925925925%\n"
          ]
        },
        {
          "output_type": "stream",
          "name": "stderr",
          "text": [
            "Epoch 3: 100%|██████████| 85/85 [00:34<00:00,  2.43it/s, loss=0.474]\n"
          ]
        },
        {
          "output_type": "stream",
          "name": "stdout",
          "text": [
            "Train Loss: 0.3781839461887584, Validation Loss: 0.33870960568839853, Accuracy: 88.88888888888889%\n"
          ]
        },
        {
          "output_type": "stream",
          "name": "stderr",
          "text": [
            "Epoch 4: 100%|██████████| 85/85 [00:40<00:00,  2.09it/s, loss=0.319]\n"
          ]
        },
        {
          "output_type": "stream",
          "name": "stdout",
          "text": [
            "Train Loss: 0.33409060765715204, Validation Loss: 0.3374845561656085, Accuracy: 88.96296296296296%\n"
          ]
        },
        {
          "output_type": "stream",
          "name": "stderr",
          "text": [
            "Epoch 5: 100%|██████████| 85/85 [00:34<00:00,  2.48it/s, loss=0.25]\n"
          ]
        },
        {
          "output_type": "stream",
          "name": "stdout",
          "text": [
            "Train Loss: 0.30960945942822626, Validation Loss: 0.29274256798354065, Accuracy: 90.5925925925926%\n"
          ]
        },
        {
          "output_type": "stream",
          "name": "stderr",
          "text": [
            "Epoch 6: 100%|██████████| 85/85 [00:40<00:00,  2.09it/s, loss=0.177]\n"
          ]
        },
        {
          "output_type": "stream",
          "name": "stdout",
          "text": [
            "Train Loss: 0.2904313159339568, Validation Loss: 0.27265437760136346, Accuracy: 91.18518518518519%\n"
          ]
        },
        {
          "output_type": "stream",
          "name": "stderr",
          "text": [
            "Epoch 7: 100%|██████████| 85/85 [00:35<00:00,  2.41it/s, loss=0.202]\n"
          ]
        },
        {
          "output_type": "stream",
          "name": "stdout",
          "text": [
            "Train Loss: 0.2755381745450637, Validation Loss: 0.26834385232491925, Accuracy: 91.11111111111111%\n"
          ]
        },
        {
          "output_type": "stream",
          "name": "stderr",
          "text": [
            "Epoch 8: 100%|██████████| 85/85 [00:36<00:00,  2.32it/s, loss=0.255]\n"
          ]
        },
        {
          "output_type": "stream",
          "name": "stdout",
          "text": [
            "Train Loss: 0.2519307755372103, Validation Loss: 0.24774325368079272, Accuracy: 91.85185185185185%\n"
          ]
        },
        {
          "output_type": "stream",
          "name": "stderr",
          "text": [
            "Epoch 9: 100%|██████████| 85/85 [00:37<00:00,  2.28it/s, loss=0.175]\n"
          ]
        },
        {
          "output_type": "stream",
          "name": "stdout",
          "text": [
            "Train Loss: 0.24587190449237822, Validation Loss: 0.2450743205845356, Accuracy: 91.62962962962963%\n"
          ]
        },
        {
          "output_type": "stream",
          "name": "stderr",
          "text": [
            "Epoch 10: 100%|██████████| 85/85 [00:36<00:00,  2.36it/s, loss=0.171]\n"
          ]
        },
        {
          "output_type": "stream",
          "name": "stdout",
          "text": [
            "Train Loss: 0.22813054375788744, Validation Loss: 0.246410437266935, Accuracy: 91.11111111111111%\n"
          ]
        },
        {
          "output_type": "stream",
          "name": "stderr",
          "text": [
            "Epoch 11: 100%|██████████| 85/85 [00:40<00:00,  2.12it/s, loss=0.174]\n"
          ]
        },
        {
          "output_type": "stream",
          "name": "stdout",
          "text": [
            "Train Loss: 0.2339142455774195, Validation Loss: 0.2567184740169482, Accuracy: 90.88888888888889%\n"
          ]
        },
        {
          "output_type": "stream",
          "name": "stderr",
          "text": [
            "Epoch 12: 100%|██████████| 85/85 [00:36<00:00,  2.35it/s, loss=0.271]\n"
          ]
        },
        {
          "output_type": "stream",
          "name": "stdout",
          "text": [
            "Train Loss: 0.2185937242472873, Validation Loss: 0.21145843951539559, Accuracy: 92.96296296296296%\n"
          ]
        },
        {
          "output_type": "stream",
          "name": "stderr",
          "text": [
            "Epoch 13: 100%|██████████| 85/85 [00:40<00:00,  2.08it/s, loss=0.319]\n"
          ]
        },
        {
          "output_type": "stream",
          "name": "stdout",
          "text": [
            "Train Loss: 0.2164040093912798, Validation Loss: 0.20971890843727373, Accuracy: 92.44444444444444%\n"
          ]
        },
        {
          "output_type": "stream",
          "name": "stderr",
          "text": [
            "Epoch 14: 100%|██████████| 85/85 [00:35<00:00,  2.42it/s, loss=0.137]\n"
          ]
        },
        {
          "output_type": "stream",
          "name": "stdout",
          "text": [
            "Train Loss: 0.2015539469964364, Validation Loss: 0.1962428665296598, Accuracy: 93.70370370370371%\n"
          ]
        },
        {
          "output_type": "stream",
          "name": "stderr",
          "text": [
            "Epoch 15: 100%|██████████| 85/85 [00:41<00:00,  2.05it/s, loss=0.297]\n"
          ]
        },
        {
          "output_type": "stream",
          "name": "stdout",
          "text": [
            "Train Loss: 0.2018316611647606, Validation Loss: 0.19638152047991753, Accuracy: 93.55555555555556%\n",
            "Second phase started. Learning rate:  0.001\n",
            "Liczba zamrożonych parametrów: 23508032\n",
            "Liczba niezamrożonych parametrów: 4098\n"
          ]
        },
        {
          "output_type": "stream",
          "name": "stderr",
          "text": [
            "Epoch 1: 100%|██████████| 85/85 [00:35<00:00,  2.42it/s, loss=0.128]\n"
          ]
        },
        {
          "output_type": "stream",
          "name": "stdout",
          "text": [
            "Train Loss: 0.19120478717719808, Validation Loss: 0.1941495839167725, Accuracy: 93.25925925925925%\n"
          ]
        },
        {
          "output_type": "stream",
          "name": "stderr",
          "text": [
            "Epoch 2: 100%|██████████| 85/85 [00:38<00:00,  2.23it/s, loss=0.218]\n"
          ]
        },
        {
          "output_type": "stream",
          "name": "stdout",
          "text": [
            "Train Loss: 0.19082904501872905, Validation Loss: 0.21647853709080003, Accuracy: 92.07407407407408%\n"
          ]
        },
        {
          "output_type": "stream",
          "name": "stderr",
          "text": [
            "Epoch 3: 100%|██████████| 85/85 [00:35<00:00,  2.42it/s, loss=0.217]\n"
          ]
        },
        {
          "output_type": "stream",
          "name": "stdout",
          "text": [
            "Train Loss: 0.18492841483915554, Validation Loss: 0.20212200487201865, Accuracy: 92.07407407407408%\n"
          ]
        },
        {
          "output_type": "stream",
          "name": "stderr",
          "text": [
            "Epoch 4: 100%|██████████| 85/85 [00:35<00:00,  2.38it/s, loss=0.181]\n"
          ]
        },
        {
          "output_type": "stream",
          "name": "stdout",
          "text": [
            "Train Loss: 0.1864746572340236, Validation Loss: 0.19322792101990094, Accuracy: 92.44444444444444%\n"
          ]
        },
        {
          "output_type": "stream",
          "name": "stderr",
          "text": [
            "Epoch 5: 100%|██████████| 85/85 [00:37<00:00,  2.26it/s, loss=0.194]\n"
          ]
        },
        {
          "output_type": "stream",
          "name": "stdout",
          "text": [
            "Train Loss: 0.18083629739635132, Validation Loss: 0.17748596807095138, Accuracy: 93.85185185185185%\n"
          ]
        },
        {
          "output_type": "stream",
          "name": "stderr",
          "text": [
            "Epoch 6: 100%|██████████| 85/85 [00:35<00:00,  2.40it/s, loss=0.0674]\n"
          ]
        },
        {
          "output_type": "stream",
          "name": "stdout",
          "text": [
            "Train Loss: 0.19472702645203646, Validation Loss: 0.18065087564966895, Accuracy: 93.77777777777777%\n"
          ]
        },
        {
          "output_type": "stream",
          "name": "stderr",
          "text": [
            "Epoch 7: 100%|██████████| 85/85 [00:40<00:00,  2.08it/s, loss=0.169]\n"
          ]
        },
        {
          "output_type": "stream",
          "name": "stdout",
          "text": [
            "Train Loss: 0.17632820869193358, Validation Loss: 0.17364098504185677, Accuracy: 94.22222222222223%\n"
          ]
        },
        {
          "output_type": "stream",
          "name": "stderr",
          "text": [
            "Epoch 8: 100%|██████████| 85/85 [00:35<00:00,  2.40it/s, loss=0.123]\n"
          ]
        },
        {
          "output_type": "stream",
          "name": "stdout",
          "text": [
            "Train Loss: 0.1812468187773929, Validation Loss: 0.168772776695815, Accuracy: 93.85185185185185%\n"
          ]
        },
        {
          "output_type": "stream",
          "name": "stderr",
          "text": [
            "Epoch 9: 100%|██████████| 85/85 [00:41<00:00,  2.06it/s, loss=0.141]\n"
          ]
        },
        {
          "output_type": "stream",
          "name": "stdout",
          "text": [
            "Train Loss: 0.16855538119288052, Validation Loss: 0.18986555798487229, Accuracy: 92.37037037037037%\n"
          ]
        },
        {
          "output_type": "stream",
          "name": "stderr",
          "text": [
            "Epoch 10: 100%|██████████| 85/85 [00:35<00:00,  2.41it/s, loss=0.157]\n"
          ]
        },
        {
          "output_type": "stream",
          "name": "stdout",
          "text": [
            "Train Loss: 0.17562157800968956, Validation Loss: 0.17950114133683118, Accuracy: 93.11111111111111%\n"
          ]
        },
        {
          "output_type": "stream",
          "name": "stderr",
          "text": [
            "Epoch 11: 100%|██████████| 85/85 [00:41<00:00,  2.06it/s, loss=0.116]\n"
          ]
        },
        {
          "output_type": "stream",
          "name": "stdout",
          "text": [
            "Train Loss: 0.16641504562952938, Validation Loss: 0.16136982935396108, Accuracy: 94.51851851851852%\n"
          ]
        },
        {
          "output_type": "stream",
          "name": "stderr",
          "text": [
            "Epoch 12: 100%|██████████| 85/85 [00:35<00:00,  2.42it/s, loss=0.0982]\n"
          ]
        },
        {
          "output_type": "stream",
          "name": "stdout",
          "text": [
            "Train Loss: 0.15906892506515277, Validation Loss: 0.1593985388224775, Accuracy: 94.51851851851852%\n"
          ]
        },
        {
          "output_type": "stream",
          "name": "stderr",
          "text": [
            "Epoch 13: 100%|██████████| 85/85 [00:40<00:00,  2.10it/s, loss=0.239]\n"
          ]
        },
        {
          "output_type": "stream",
          "name": "stdout",
          "text": [
            "Train Loss: 0.1581427547861548, Validation Loss: 0.15984635224396532, Accuracy: 94.51851851851852%\n"
          ]
        },
        {
          "output_type": "stream",
          "name": "stderr",
          "text": [
            "Epoch 14: 100%|██████████| 85/85 [00:35<00:00,  2.40it/s, loss=0.109]\n"
          ]
        },
        {
          "output_type": "stream",
          "name": "stdout",
          "text": [
            "Train Loss: 0.15899286410387825, Validation Loss: 0.15317725339396435, Accuracy: 94.96296296296296%\n"
          ]
        },
        {
          "output_type": "stream",
          "name": "stderr",
          "text": [
            "Epoch 15: 100%|██████████| 85/85 [00:39<00:00,  2.14it/s, loss=0.0677]\n"
          ]
        },
        {
          "output_type": "stream",
          "name": "stdout",
          "text": [
            "Train Loss: 0.15176597640794867, Validation Loss: 0.18368953754278747, Accuracy: 92.5925925925926%\n",
            "Loaders created\n",
            "Using the EfficientNet model\n",
            "Classifier for model has been changed.\n",
            "Transfer learning method: classic_tl applied.\n",
            "Training starts\n",
            "Liczba zamrożonych parametrów: 4007548\n",
            "Liczba niezamrożonych parametrów: 2562\n"
          ]
        },
        {
          "output_type": "stream",
          "name": "stderr",
          "text": [
            "Epoch 1: 100%|██████████| 85/85 [01:09<00:00,  1.22it/s, loss=0.315]\n"
          ]
        },
        {
          "output_type": "stream",
          "name": "stdout",
          "text": [
            "Train Loss: 0.39414814868394066, Validation Loss: 0.2399453209205107, Accuracy: 93.48148148148148%\n"
          ]
        },
        {
          "output_type": "stream",
          "name": "stderr",
          "text": [
            "Epoch 2: 100%|██████████| 85/85 [00:31<00:00,  2.73it/s, loss=0.192]\n"
          ]
        },
        {
          "output_type": "stream",
          "name": "stdout",
          "text": [
            "Train Loss: 0.23545691511210273, Validation Loss: 0.17951908639886163, Accuracy: 94.96296296296296%\n"
          ]
        },
        {
          "output_type": "stream",
          "name": "stderr",
          "text": [
            "Epoch 3: 100%|██████████| 85/85 [00:37<00:00,  2.27it/s, loss=0.158]\n"
          ]
        },
        {
          "output_type": "stream",
          "name": "stdout",
          "text": [
            "Train Loss: 0.19504344717544667, Validation Loss: 0.1511669113216075, Accuracy: 95.62962962962963%\n"
          ]
        },
        {
          "output_type": "stream",
          "name": "stderr",
          "text": [
            "Epoch 4: 100%|██████████| 85/85 [00:31<00:00,  2.70it/s, loss=0.119]\n"
          ]
        },
        {
          "output_type": "stream",
          "name": "stdout",
          "text": [
            "Train Loss: 0.17243081208537606, Validation Loss: 0.13705316118218683, Accuracy: 95.62962962962963%\n"
          ]
        },
        {
          "output_type": "stream",
          "name": "stderr",
          "text": [
            "Epoch 5: 100%|██████████| 85/85 [00:37<00:00,  2.24it/s, loss=0.0958]\n"
          ]
        },
        {
          "output_type": "stream",
          "name": "stdout",
          "text": [
            "Train Loss: 0.16011650720063378, Validation Loss: 0.1285158282315189, Accuracy: 96.14814814814815%\n"
          ]
        },
        {
          "output_type": "stream",
          "name": "stderr",
          "text": [
            "Epoch 6: 100%|██████████| 85/85 [00:32<00:00,  2.63it/s, loss=0.0985]\n"
          ]
        },
        {
          "output_type": "stream",
          "name": "stdout",
          "text": [
            "Train Loss: 0.15261107087135314, Validation Loss: 0.12017355749214237, Accuracy: 96.14814814814815%\n"
          ]
        },
        {
          "output_type": "stream",
          "name": "stderr",
          "text": [
            "Epoch 7: 100%|██████████| 85/85 [00:38<00:00,  2.20it/s, loss=0.294]\n"
          ]
        },
        {
          "output_type": "stream",
          "name": "stdout",
          "text": [
            "Train Loss: 0.1507663349456647, Validation Loss: 0.1084824266250838, Accuracy: 96.5925925925926%\n"
          ]
        },
        {
          "output_type": "stream",
          "name": "stderr",
          "text": [
            "Epoch 8: 100%|██████████| 85/85 [00:32<00:00,  2.61it/s, loss=0.14]\n"
          ]
        },
        {
          "output_type": "stream",
          "name": "stdout",
          "text": [
            "Train Loss: 0.13853627890348436, Validation Loss: 0.1060478760945526, Accuracy: 96.88888888888889%\n"
          ]
        },
        {
          "output_type": "stream",
          "name": "stderr",
          "text": [
            "Epoch 9: 100%|██████████| 85/85 [00:36<00:00,  2.36it/s, loss=0.184]\n"
          ]
        },
        {
          "output_type": "stream",
          "name": "stdout",
          "text": [
            "Train Loss: 0.137813001871109, Validation Loss: 0.10377449533817443, Accuracy: 96.88888888888889%\n"
          ]
        },
        {
          "output_type": "stream",
          "name": "stderr",
          "text": [
            "Epoch 10: 100%|██████████| 85/85 [00:32<00:00,  2.64it/s, loss=0.386]\n"
          ]
        },
        {
          "output_type": "stream",
          "name": "stdout",
          "text": [
            "Train Loss: 0.13191608519238585, Validation Loss: 0.09759947809983384, Accuracy: 96.81481481481481%\n"
          ]
        },
        {
          "output_type": "stream",
          "name": "stderr",
          "text": [
            "Epoch 11: 100%|██████████| 85/85 [00:32<00:00,  2.60it/s, loss=0.199]\n"
          ]
        },
        {
          "output_type": "stream",
          "name": "stdout",
          "text": [
            "Train Loss: 0.12384076508529046, Validation Loss: 0.09545180430127816, Accuracy: 96.88888888888889%\n"
          ]
        },
        {
          "output_type": "stream",
          "name": "stderr",
          "text": [
            "Epoch 12: 100%|██████████| 85/85 [00:31<00:00,  2.70it/s, loss=0.181]\n"
          ]
        },
        {
          "output_type": "stream",
          "name": "stdout",
          "text": [
            "Train Loss: 0.11659242922768873, Validation Loss: 0.09687937575985085, Accuracy: 96.81481481481481%\n"
          ]
        },
        {
          "output_type": "stream",
          "name": "stderr",
          "text": [
            "Epoch 13: 100%|██████████| 85/85 [00:31<00:00,  2.71it/s, loss=0.379]\n"
          ]
        },
        {
          "output_type": "stream",
          "name": "stdout",
          "text": [
            "Train Loss: 0.12881870155825334, Validation Loss: 0.09383755109526894, Accuracy: 97.03703703703704%\n"
          ]
        },
        {
          "output_type": "stream",
          "name": "stderr",
          "text": [
            "Epoch 14: 100%|██████████| 85/85 [00:35<00:00,  2.39it/s, loss=0.131]\n"
          ]
        },
        {
          "output_type": "stream",
          "name": "stdout",
          "text": [
            "Train Loss: 0.1206354900756303, Validation Loss: 0.09287770388817246, Accuracy: 97.03703703703704%\n"
          ]
        },
        {
          "output_type": "stream",
          "name": "stderr",
          "text": [
            "Epoch 15: 100%|██████████| 85/85 [00:32<00:00,  2.65it/s, loss=0.0537]\n"
          ]
        },
        {
          "output_type": "stream",
          "name": "stdout",
          "text": [
            "Train Loss: 0.11682148856275222, Validation Loss: 0.08842523904009299, Accuracy: 97.11111111111111%\n",
            "Second phase started. Learning rate:  0.001\n",
            "Liczba zamrożonych parametrów: 4007548\n",
            "Liczba niezamrożonych parametrów: 2562\n"
          ]
        },
        {
          "output_type": "stream",
          "name": "stderr",
          "text": [
            "Epoch 1: 100%|██████████| 85/85 [00:37<00:00,  2.25it/s, loss=0.0705]\n"
          ]
        },
        {
          "output_type": "stream",
          "name": "stdout",
          "text": [
            "Train Loss: 0.11194064025493229, Validation Loss: 0.08978042984381318, Accuracy: 97.03703703703704%\n"
          ]
        },
        {
          "output_type": "stream",
          "name": "stderr",
          "text": [
            "Epoch 2: 100%|██████████| 85/85 [00:31<00:00,  2.67it/s, loss=0.0715]\n"
          ]
        },
        {
          "output_type": "stream",
          "name": "stdout",
          "text": [
            "Train Loss: 0.11560137955581441, Validation Loss: 0.08538642275909131, Accuracy: 97.03703703703704%\n"
          ]
        },
        {
          "output_type": "stream",
          "name": "stderr",
          "text": [
            "Epoch 3: 100%|██████████| 85/85 [00:37<00:00,  2.24it/s, loss=0.0449]\n"
          ]
        },
        {
          "output_type": "stream",
          "name": "stdout",
          "text": [
            "Train Loss: 0.10779664310462335, Validation Loss: 0.08557389469139955, Accuracy: 97.18518518518519%\n"
          ]
        },
        {
          "output_type": "stream",
          "name": "stderr",
          "text": [
            "Epoch 4: 100%|██████████| 85/85 [00:32<00:00,  2.59it/s, loss=0.062]\n"
          ]
        },
        {
          "output_type": "stream",
          "name": "stdout",
          "text": [
            "Train Loss: 0.11572399371687103, Validation Loss: 0.08296028080142358, Accuracy: 97.33333333333333%\n"
          ]
        },
        {
          "output_type": "stream",
          "name": "stderr",
          "text": [
            "Epoch 5: 100%|██████████| 85/85 [00:39<00:00,  2.16it/s, loss=0.0206]\n"
          ]
        },
        {
          "output_type": "stream",
          "name": "stdout",
          "text": [
            "Train Loss: 0.1096221985624117, Validation Loss: 0.08337921120057051, Accuracy: 97.25925925925925%\n"
          ]
        },
        {
          "output_type": "stream",
          "name": "stderr",
          "text": [
            "Epoch 6: 100%|██████████| 85/85 [00:32<00:00,  2.66it/s, loss=0.0856]\n"
          ]
        },
        {
          "output_type": "stream",
          "name": "stdout",
          "text": [
            "Train Loss: 0.10151519696502125, Validation Loss: 0.08151137219233946, Accuracy: 97.33333333333333%\n"
          ]
        },
        {
          "output_type": "stream",
          "name": "stderr",
          "text": [
            "Epoch 7: 100%|██████████| 85/85 [00:37<00:00,  2.25it/s, loss=0.144]\n"
          ]
        },
        {
          "output_type": "stream",
          "name": "stdout",
          "text": [
            "Train Loss: 0.11013277659521384, Validation Loss: 0.08429860264401544, Accuracy: 97.25925925925925%\n"
          ]
        },
        {
          "output_type": "stream",
          "name": "stderr",
          "text": [
            "Epoch 8: 100%|██████████| 85/85 [00:31<00:00,  2.69it/s, loss=0.0563]\n"
          ]
        },
        {
          "output_type": "stream",
          "name": "stdout",
          "text": [
            "Train Loss: 0.11101093406186384, Validation Loss: 0.0806274877607145, Accuracy: 97.48148148148148%\n"
          ]
        },
        {
          "output_type": "stream",
          "name": "stderr",
          "text": [
            "Epoch 9: 100%|██████████| 85/85 [00:35<00:00,  2.42it/s, loss=0.0791]\n"
          ]
        },
        {
          "output_type": "stream",
          "name": "stdout",
          "text": [
            "Train Loss: 0.11093110718271311, Validation Loss: 0.0831929958764125, Accuracy: 97.11111111111111%\n"
          ]
        },
        {
          "output_type": "stream",
          "name": "stderr",
          "text": [
            "Epoch 10: 100%|██████████| 85/85 [00:32<00:00,  2.65it/s, loss=0.107]\n"
          ]
        },
        {
          "output_type": "stream",
          "name": "stdout",
          "text": [
            "Train Loss: 0.1055126445258365, Validation Loss: 0.07738850134509531, Accuracy: 97.18518518518519%\n"
          ]
        },
        {
          "output_type": "stream",
          "name": "stderr",
          "text": [
            "Epoch 11: 100%|██████████| 85/85 [00:32<00:00,  2.66it/s, loss=0.115]\n"
          ]
        },
        {
          "output_type": "stream",
          "name": "stdout",
          "text": [
            "Train Loss: 0.10419773139497814, Validation Loss: 0.07906146186657927, Accuracy: 97.33333333333333%\n"
          ]
        },
        {
          "output_type": "stream",
          "name": "stderr",
          "text": [
            "Epoch 12: 100%|██████████| 85/85 [00:31<00:00,  2.66it/s, loss=0.0763]\n"
          ]
        },
        {
          "output_type": "stream",
          "name": "stdout",
          "text": [
            "Train Loss: 0.10513267885236179, Validation Loss: 0.07997019440782341, Accuracy: 97.18518518518519%\n"
          ]
        },
        {
          "output_type": "stream",
          "name": "stderr",
          "text": [
            "Epoch 13: 100%|██████████| 85/85 [00:32<00:00,  2.65it/s, loss=0.0394]\n"
          ]
        },
        {
          "output_type": "stream",
          "name": "stdout",
          "text": [
            "Train Loss: 0.10464514561874025, Validation Loss: 0.08253791826692494, Accuracy: 97.33333333333333%\n"
          ]
        },
        {
          "output_type": "stream",
          "name": "stderr",
          "text": [
            "Epoch 14: 100%|██████████| 85/85 [00:37<00:00,  2.26it/s, loss=0.0935]\n"
          ]
        },
        {
          "output_type": "stream",
          "name": "stdout",
          "text": [
            "Train Loss: 0.10919402638340697, Validation Loss: 0.07729630248451774, Accuracy: 97.4074074074074%\n"
          ]
        },
        {
          "output_type": "stream",
          "name": "stderr",
          "text": [
            "Epoch 15: 100%|██████████| 85/85 [00:32<00:00,  2.58it/s, loss=0.124]\n"
          ]
        },
        {
          "output_type": "stream",
          "name": "stdout",
          "text": [
            "Train Loss: 0.11093573136364712, Validation Loss: 0.07738885495134375, Accuracy: 97.4074074074074%\n",
            "Using the fine_tuning method\n",
            "Loaders created\n",
            "Using the VGG model\n",
            "Classifier for model has been changed.\n",
            "Transfer learning method: fine_tuning applied.\n",
            "Training starts\n",
            "Liczba zamrożonych parametrów: 14714688\n",
            "Liczba niezamrożonych parametrów: 119554050\n"
          ]
        },
        {
          "output_type": "stream",
          "name": "stderr",
          "text": [
            "Epoch 1: 100%|██████████| 85/85 [00:47<00:00,  1.77it/s, loss=0.573]\n"
          ]
        },
        {
          "output_type": "stream",
          "name": "stdout",
          "text": [
            "Train Loss: 0.23723475873908575, Validation Loss: 0.09189420242116532, Accuracy: 97.92592592592592%\n"
          ]
        },
        {
          "output_type": "stream",
          "name": "stderr",
          "text": [
            "Epoch 2: 100%|██████████| 85/85 [01:17<00:00,  1.10it/s, loss=0.0495]\n"
          ]
        },
        {
          "output_type": "stream",
          "name": "stdout",
          "text": [
            "Train Loss: 0.05346624563612482, Validation Loss: 0.09725964147946797, Accuracy: 97.85185185185185%\n"
          ]
        },
        {
          "output_type": "stream",
          "name": "stderr",
          "text": [
            "Epoch 3: 100%|██████████| 85/85 [00:41<00:00,  2.05it/s, loss=0.0426]\n"
          ]
        },
        {
          "output_type": "stream",
          "name": "stdout",
          "text": [
            "Train Loss: 0.032893307757673455, Validation Loss: 0.11255593133815141, Accuracy: 97.4074074074074%\n"
          ]
        },
        {
          "output_type": "stream",
          "name": "stderr",
          "text": [
            "Epoch 4: 100%|██████████| 85/85 [00:43<00:00,  1.94it/s, loss=0.0486]\n"
          ]
        },
        {
          "output_type": "stream",
          "name": "stdout",
          "text": [
            "Train Loss: 0.023581850491053262, Validation Loss: 0.12275886031222233, Accuracy: 97.70370370370371%\n"
          ]
        },
        {
          "output_type": "stream",
          "name": "stderr",
          "text": [
            "Epoch 5: 100%|██████████| 85/85 [00:41<00:00,  2.03it/s, loss=0.00717]\n"
          ]
        },
        {
          "output_type": "stream",
          "name": "stdout",
          "text": [
            "Train Loss: 0.011424273550031049, Validation Loss: 0.1274832827091979, Accuracy: 97.85185185185185%\n"
          ]
        },
        {
          "output_type": "stream",
          "name": "stderr",
          "text": [
            "Epoch 6: 100%|██████████| 85/85 [00:40<00:00,  2.09it/s, loss=1.23e-5]\n"
          ]
        },
        {
          "output_type": "stream",
          "name": "stdout",
          "text": [
            "Train Loss: 0.012415137391551125, Validation Loss: 0.1808664313048625, Accuracy: 97.03703703703704%\n"
          ]
        },
        {
          "output_type": "stream",
          "name": "stderr",
          "text": [
            "Epoch 7: 100%|██████████| 85/85 [00:46<00:00,  1.83it/s, loss=0.153]\n"
          ]
        },
        {
          "output_type": "stream",
          "name": "stdout",
          "text": [
            "Train Loss: 0.019107809980756858, Validation Loss: 0.2999985565015131, Accuracy: 95.33333333333333%\n"
          ]
        },
        {
          "output_type": "stream",
          "name": "stderr",
          "text": [
            "Epoch 8: 100%|██████████| 85/85 [00:40<00:00,  2.09it/s, loss=0.265]\n"
          ]
        },
        {
          "output_type": "stream",
          "name": "stdout",
          "text": [
            "Train Loss: 0.034102569692314476, Validation Loss: 0.14711978684698063, Accuracy: 97.77777777777777%\n"
          ]
        },
        {
          "output_type": "stream",
          "name": "stderr",
          "text": [
            "Epoch 9: 100%|██████████| 85/85 [00:46<00:00,  1.82it/s, loss=0.0117]\n"
          ]
        },
        {
          "output_type": "stream",
          "name": "stdout",
          "text": [
            "Train Loss: 0.016275422029652604, Validation Loss: 0.1494255344150588, Accuracy: 97.92592592592592%\n"
          ]
        },
        {
          "output_type": "stream",
          "name": "stderr",
          "text": [
            "Epoch 10: 100%|██████████| 85/85 [00:41<00:00,  2.06it/s, loss=7.15e-5]\n"
          ]
        },
        {
          "output_type": "stream",
          "name": "stdout",
          "text": [
            "Train Loss: 0.005335131931668216, Validation Loss: 0.18985186152845432, Accuracy: 98.14814814814815%\n"
          ]
        },
        {
          "output_type": "stream",
          "name": "stderr",
          "text": [
            "Epoch 11: 100%|██████████| 85/85 [00:40<00:00,  2.08it/s, loss=0.000139]\n"
          ]
        },
        {
          "output_type": "stream",
          "name": "stdout",
          "text": [
            "Train Loss: 0.0031919902271671592, Validation Loss: 0.19522583425962445, Accuracy: 97.85185185185185%\n"
          ]
        },
        {
          "output_type": "stream",
          "name": "stderr",
          "text": [
            "Epoch 12: 100%|██████████| 85/85 [00:44<00:00,  1.92it/s, loss=0.172]\n"
          ]
        },
        {
          "output_type": "stream",
          "name": "stdout",
          "text": [
            "Train Loss: 0.021436934121726047, Validation Loss: 0.26547772320664237, Accuracy: 96.37037037037037%\n"
          ]
        },
        {
          "output_type": "stream",
          "name": "stderr",
          "text": [
            "Epoch 13: 100%|██████████| 85/85 [00:41<00:00,  2.05it/s, loss=0.000198]\n"
          ]
        },
        {
          "output_type": "stream",
          "name": "stdout",
          "text": [
            "Train Loss: 0.020663712846084415, Validation Loss: 0.17782527448054514, Accuracy: 97.77777777777777%\n"
          ]
        },
        {
          "output_type": "stream",
          "name": "stderr",
          "text": [
            "Epoch 14: 100%|██████████| 85/85 [00:47<00:00,  1.78it/s, loss=0.000254]\n"
          ]
        },
        {
          "output_type": "stream",
          "name": "stdout",
          "text": [
            "Train Loss: 0.011969631599517657, Validation Loss: 0.15759153710479784, Accuracy: 97.92592592592592%\n"
          ]
        },
        {
          "output_type": "stream",
          "name": "stderr",
          "text": [
            "Epoch 15: 100%|██████████| 85/85 [00:40<00:00,  2.10it/s, loss=2.07e-8]\n"
          ]
        },
        {
          "output_type": "stream",
          "name": "stdout",
          "text": [
            "Train Loss: 0.013114130875719773, Validation Loss: 0.2032150110941302, Accuracy: 98.0%\n",
            "Fine tuning applied. Learning rate:  0.0001\n",
            "Liczba zamrożonych parametrów: 0\n",
            "Liczba niezamrożonych parametrów: 134268738\n"
          ]
        },
        {
          "output_type": "stream",
          "name": "stderr",
          "text": [
            "Epoch 1: 100%|██████████| 85/85 [01:28<00:00,  1.04s/it, loss=0.0063]\n"
          ]
        },
        {
          "output_type": "stream",
          "name": "stdout",
          "text": [
            "Train Loss: 0.11062589895602072, Validation Loss: 0.107040816843933, Accuracy: 98.44444444444444%\n"
          ]
        },
        {
          "output_type": "stream",
          "name": "stderr",
          "text": [
            "Epoch 2: 100%|██████████| 85/85 [01:28<00:00,  1.04s/it, loss=0.000906]\n"
          ]
        },
        {
          "output_type": "stream",
          "name": "stdout",
          "text": [
            "Train Loss: 0.014359862768255613, Validation Loss: 0.11216824429191713, Accuracy: 98.44444444444444%\n"
          ]
        },
        {
          "output_type": "stream",
          "name": "stderr",
          "text": [
            "Epoch 3: 100%|██████████| 85/85 [01:27<00:00,  1.03s/it, loss=0.0815]\n"
          ]
        },
        {
          "output_type": "stream",
          "name": "stdout",
          "text": [
            "Train Loss: 0.014214018430068202, Validation Loss: 0.1012744238356721, Accuracy: 98.5925925925926%\n"
          ]
        },
        {
          "output_type": "stream",
          "name": "stderr",
          "text": [
            "Epoch 4: 100%|██████████| 85/85 [01:27<00:00,  1.03s/it, loss=0.000412]\n"
          ]
        },
        {
          "output_type": "stream",
          "name": "stdout",
          "text": [
            "Train Loss: 0.009016445609150277, Validation Loss: 0.1295283881938138, Accuracy: 98.14814814814815%\n"
          ]
        },
        {
          "output_type": "stream",
          "name": "stderr",
          "text": [
            "Epoch 5: 100%|██████████| 85/85 [01:27<00:00,  1.03s/it, loss=0.000157]\n"
          ]
        },
        {
          "output_type": "stream",
          "name": "stdout",
          "text": [
            "Train Loss: 0.010593124800224734, Validation Loss: 0.10379386421705435, Accuracy: 98.96296296296296%\n"
          ]
        },
        {
          "output_type": "stream",
          "name": "stderr",
          "text": [
            "Epoch 6: 100%|██████████| 85/85 [01:27<00:00,  1.03s/it, loss=3.69e-5]\n"
          ]
        },
        {
          "output_type": "stream",
          "name": "stdout",
          "text": [
            "Train Loss: 0.0025286531670965762, Validation Loss: 0.1271915615621579, Accuracy: 99.03703703703704%\n"
          ]
        },
        {
          "output_type": "stream",
          "name": "stderr",
          "text": [
            "Epoch 7: 100%|██████████| 85/85 [01:26<00:00,  1.01s/it, loss=9.2e-6]\n"
          ]
        },
        {
          "output_type": "stream",
          "name": "stdout",
          "text": [
            "Train Loss: 0.00011196882274442246, Validation Loss: 0.14196288010899655, Accuracy: 99.03703703703704%\n"
          ]
        },
        {
          "output_type": "stream",
          "name": "stderr",
          "text": [
            "Epoch 8: 100%|██████████| 85/85 [01:27<00:00,  1.03s/it, loss=7.77e-8]\n"
          ]
        },
        {
          "output_type": "stream",
          "name": "stdout",
          "text": [
            "Train Loss: 3.5797422695542776e-05, Validation Loss: 0.144868877535997, Accuracy: 99.03703703703704%\n"
          ]
        },
        {
          "output_type": "stream",
          "name": "stderr",
          "text": [
            "Epoch 9: 100%|██████████| 85/85 [01:27<00:00,  1.03s/it, loss=1.51e-6]\n"
          ]
        },
        {
          "output_type": "stream",
          "name": "stdout",
          "text": [
            "Train Loss: 2.7032285782310924e-05, Validation Loss: 0.15012025638954316, Accuracy: 99.03703703703704%\n"
          ]
        },
        {
          "output_type": "stream",
          "name": "stderr",
          "text": [
            "Epoch 10: 100%|██████████| 85/85 [01:27<00:00,  1.03s/it, loss=4.04e-6]\n"
          ]
        },
        {
          "output_type": "stream",
          "name": "stdout",
          "text": [
            "Train Loss: 1.747685382691302e-05, Validation Loss: 0.1538165380000087, Accuracy: 99.03703703703704%\n"
          ]
        },
        {
          "output_type": "stream",
          "name": "stderr",
          "text": [
            "Epoch 11: 100%|██████████| 85/85 [01:28<00:00,  1.04s/it, loss=1e-6]\n"
          ]
        },
        {
          "output_type": "stream",
          "name": "stdout",
          "text": [
            "Train Loss: 8.253774298339068e-06, Validation Loss: 0.15652562388416993, Accuracy: 99.03703703703704%\n"
          ]
        },
        {
          "output_type": "stream",
          "name": "stderr",
          "text": [
            "Epoch 12: 100%|██████████| 85/85 [01:28<00:00,  1.04s/it, loss=1.04e-6]\n"
          ]
        },
        {
          "output_type": "stream",
          "name": "stdout",
          "text": [
            "Train Loss: 8.991932744058485e-06, Validation Loss: 0.1595869395650568, Accuracy: 99.03703703703704%\n"
          ]
        },
        {
          "output_type": "stream",
          "name": "stderr",
          "text": [
            "Epoch 13: 100%|██████████| 85/85 [01:27<00:00,  1.03s/it, loss=3.53e-6]\n"
          ]
        },
        {
          "output_type": "stream",
          "name": "stdout",
          "text": [
            "Train Loss: 4.425414492793741e-06, Validation Loss: 0.1621415141020609, Accuracy: 99.03703703703704%\n"
          ]
        },
        {
          "output_type": "stream",
          "name": "stderr",
          "text": [
            "Epoch 14: 100%|██████████| 85/85 [01:25<00:00,  1.01s/it, loss=2.38e-6]\n"
          ]
        },
        {
          "output_type": "stream",
          "name": "stdout",
          "text": [
            "Train Loss: 5.916608025098172e-06, Validation Loss: 0.1674868440618135, Accuracy: 99.03703703703704%\n"
          ]
        },
        {
          "output_type": "stream",
          "name": "stderr",
          "text": [
            "Epoch 15: 100%|██████████| 85/85 [01:23<00:00,  1.01it/s, loss=0]\n"
          ]
        },
        {
          "output_type": "stream",
          "name": "stdout",
          "text": [
            "Train Loss: 4.128745784982111e-06, Validation Loss: 0.18342559544126805, Accuracy: 98.96296296296296%\n",
            "Loaders created\n",
            "Using the ResNet model\n",
            "Classifier for model has been changed.\n",
            "Transfer learning method: fine_tuning applied.\n",
            "Training starts\n",
            "Liczba zamrożonych parametrów: 23508032\n",
            "Liczba niezamrożonych parametrów: 4098\n"
          ]
        },
        {
          "output_type": "stream",
          "name": "stderr",
          "text": [
            "Epoch 1: 100%|██████████| 85/85 [01:11<00:00,  1.18it/s, loss=0.465]\n"
          ]
        },
        {
          "output_type": "stream",
          "name": "stdout",
          "text": [
            "Train Loss: 0.5792588240960065, Validation Loss: 0.46901917322115466, Accuracy: 84.22222222222223%\n"
          ]
        },
        {
          "output_type": "stream",
          "name": "stderr",
          "text": [
            "Epoch 2: 100%|██████████| 85/85 [00:36<00:00,  2.34it/s, loss=0.709]\n"
          ]
        },
        {
          "output_type": "stream",
          "name": "stdout",
          "text": [
            "Train Loss: 0.468428937477224, Validation Loss: 0.387799627401612, Accuracy: 87.92592592592592%\n"
          ]
        },
        {
          "output_type": "stream",
          "name": "stderr",
          "text": [
            "Epoch 3: 100%|██████████| 85/85 [00:35<00:00,  2.40it/s, loss=0.378]\n"
          ]
        },
        {
          "output_type": "stream",
          "name": "stdout",
          "text": [
            "Train Loss: 0.3875293247839984, Validation Loss: 0.3398862142454494, Accuracy: 90.14814814814815%\n"
          ]
        },
        {
          "output_type": "stream",
          "name": "stderr",
          "text": [
            "Epoch 4: 100%|██████████| 85/85 [00:36<00:00,  2.35it/s, loss=0.314]\n"
          ]
        },
        {
          "output_type": "stream",
          "name": "stdout",
          "text": [
            "Train Loss: 0.3644162852974499, Validation Loss: 0.3078766573559154, Accuracy: 89.92592592592592%\n"
          ]
        },
        {
          "output_type": "stream",
          "name": "stderr",
          "text": [
            "Epoch 5: 100%|██████████| 85/85 [00:38<00:00,  2.20it/s, loss=0.5]\n"
          ]
        },
        {
          "output_type": "stream",
          "name": "stdout",
          "text": [
            "Train Loss: 0.31865916620282564, Validation Loss: 0.29226625710725784, Accuracy: 91.70370370370371%\n"
          ]
        },
        {
          "output_type": "stream",
          "name": "stderr",
          "text": [
            "Epoch 6: 100%|██████████| 85/85 [00:36<00:00,  2.34it/s, loss=0.325]\n"
          ]
        },
        {
          "output_type": "stream",
          "name": "stdout",
          "text": [
            "Train Loss: 0.29865809065454146, Validation Loss: 0.26939227702942764, Accuracy: 92.51851851851852%\n"
          ]
        },
        {
          "output_type": "stream",
          "name": "stderr",
          "text": [
            "Epoch 7: 100%|██████████| 85/85 [00:40<00:00,  2.10it/s, loss=0.351]\n"
          ]
        },
        {
          "output_type": "stream",
          "name": "stdout",
          "text": [
            "Train Loss: 0.28651296356145073, Validation Loss: 0.25655434077436273, Accuracy: 92.74074074074075%\n"
          ]
        },
        {
          "output_type": "stream",
          "name": "stderr",
          "text": [
            "Epoch 8: 100%|██████████| 85/85 [00:36<00:00,  2.30it/s, loss=0.233]\n"
          ]
        },
        {
          "output_type": "stream",
          "name": "stdout",
          "text": [
            "Train Loss: 0.26455898916020115, Validation Loss: 0.26171678033742035, Accuracy: 90.5925925925926%\n"
          ]
        },
        {
          "output_type": "stream",
          "name": "stderr",
          "text": [
            "Epoch 9: 100%|██████████| 85/85 [00:41<00:00,  2.03it/s, loss=0.276]\n"
          ]
        },
        {
          "output_type": "stream",
          "name": "stdout",
          "text": [
            "Train Loss: 0.25888778672498813, Validation Loss: 0.2868209681050344, Accuracy: 90.88888888888889%\n"
          ]
        },
        {
          "output_type": "stream",
          "name": "stderr",
          "text": [
            "Epoch 10: 100%|██████████| 85/85 [00:37<00:00,  2.26it/s, loss=0.212]\n"
          ]
        },
        {
          "output_type": "stream",
          "name": "stdout",
          "text": [
            "Train Loss: 0.25319807915126574, Validation Loss: 0.22764446247707715, Accuracy: 92.74074074074075%\n"
          ]
        },
        {
          "output_type": "stream",
          "name": "stderr",
          "text": [
            "Epoch 11: 100%|██████████| 85/85 [00:42<00:00,  2.02it/s, loss=0.382]\n"
          ]
        },
        {
          "output_type": "stream",
          "name": "stdout",
          "text": [
            "Train Loss: 0.23580246655380024, Validation Loss: 0.2378981916064566, Accuracy: 93.48148148148148%\n"
          ]
        },
        {
          "output_type": "stream",
          "name": "stderr",
          "text": [
            "Epoch 12: 100%|██████████| 85/85 [00:36<00:00,  2.33it/s, loss=0.319]\n"
          ]
        },
        {
          "output_type": "stream",
          "name": "stdout",
          "text": [
            "Train Loss: 0.23297716843731264, Validation Loss: 0.21355194598436356, Accuracy: 94.0%\n"
          ]
        },
        {
          "output_type": "stream",
          "name": "stderr",
          "text": [
            "Epoch 13: 100%|██████████| 85/85 [00:42<00:00,  1.99it/s, loss=0.236]\n"
          ]
        },
        {
          "output_type": "stream",
          "name": "stdout",
          "text": [
            "Train Loss: 0.22396266942515092, Validation Loss: 0.23734258623285728, Accuracy: 93.11111111111111%\n"
          ]
        },
        {
          "output_type": "stream",
          "name": "stderr",
          "text": [
            "Epoch 14: 100%|██████████| 85/85 [00:36<00:00,  2.34it/s, loss=0.23]\n"
          ]
        },
        {
          "output_type": "stream",
          "name": "stdout",
          "text": [
            "Train Loss: 0.2198656743063646, Validation Loss: 0.20006350326267155, Accuracy: 93.62962962962963%\n"
          ]
        },
        {
          "output_type": "stream",
          "name": "stderr",
          "text": [
            "Epoch 15: 100%|██████████| 85/85 [00:42<00:00,  2.01it/s, loss=0.172]\n"
          ]
        },
        {
          "output_type": "stream",
          "name": "stdout",
          "text": [
            "Train Loss: 0.21068940776235917, Validation Loss: 0.2253876839849082, Accuracy: 93.70370370370371%\n",
            "Fine tuning applied. Learning rate:  0.0001\n",
            "Liczba zamrożonych parametrów: 0\n",
            "Liczba niezamrożonych parametrów: 23512130\n"
          ]
        },
        {
          "output_type": "stream",
          "name": "stderr",
          "text": [
            "Epoch 1: 100%|██████████| 85/85 [01:02<00:00,  1.36it/s, loss=0.0264]\n"
          ]
        },
        {
          "output_type": "stream",
          "name": "stdout",
          "text": [
            "Train Loss: 0.062084200192133294, Validation Loss: 0.0465499161483339, Accuracy: 98.88888888888889%\n"
          ]
        },
        {
          "output_type": "stream",
          "name": "stderr",
          "text": [
            "Epoch 2: 100%|██████████| 85/85 [01:00<00:00,  1.39it/s, loss=0.000309]\n"
          ]
        },
        {
          "output_type": "stream",
          "name": "stdout",
          "text": [
            "Train Loss: 0.012790142126922387, Validation Loss: 0.050693511294825425, Accuracy: 99.11111111111111%\n"
          ]
        },
        {
          "output_type": "stream",
          "name": "stderr",
          "text": [
            "Epoch 3: 100%|██████████| 85/85 [01:03<00:00,  1.35it/s, loss=0.000959]\n"
          ]
        },
        {
          "output_type": "stream",
          "name": "stdout",
          "text": [
            "Train Loss: 0.0036753783445045186, Validation Loss: 0.05993429681343927, Accuracy: 99.18518518518519%\n"
          ]
        },
        {
          "output_type": "stream",
          "name": "stderr",
          "text": [
            "Epoch 4: 100%|██████████| 85/85 [01:01<00:00,  1.37it/s, loss=4.38e-5]\n"
          ]
        },
        {
          "output_type": "stream",
          "name": "stdout",
          "text": [
            "Train Loss: 0.000545707807642055, Validation Loss: 0.06187398449211204, Accuracy: 99.18518518518519%\n"
          ]
        },
        {
          "output_type": "stream",
          "name": "stderr",
          "text": [
            "Epoch 5: 100%|██████████| 85/85 [01:02<00:00,  1.37it/s, loss=2.01e-5]\n"
          ]
        },
        {
          "output_type": "stream",
          "name": "stdout",
          "text": [
            "Train Loss: 0.0005006316830076685, Validation Loss: 0.06874879669465433, Accuracy: 99.11111111111111%\n"
          ]
        },
        {
          "output_type": "stream",
          "name": "stderr",
          "text": [
            "Epoch 6: 100%|██████████| 85/85 [01:05<00:00,  1.29it/s, loss=5.02e-5]\n"
          ]
        },
        {
          "output_type": "stream",
          "name": "stdout",
          "text": [
            "Train Loss: 0.00045786377438215663, Validation Loss: 0.07024382031536126, Accuracy: 99.03703703703704%\n"
          ]
        },
        {
          "output_type": "stream",
          "name": "stderr",
          "text": [
            "Epoch 7: 100%|██████████| 85/85 [01:02<00:00,  1.37it/s, loss=7.75e-5]\n"
          ]
        },
        {
          "output_type": "stream",
          "name": "stdout",
          "text": [
            "Train Loss: 0.00013072569730705736, Validation Loss: 0.07443604472212102, Accuracy: 99.11111111111111%\n"
          ]
        },
        {
          "output_type": "stream",
          "name": "stderr",
          "text": [
            "Epoch 8: 100%|██████████| 85/85 [01:01<00:00,  1.39it/s, loss=2.19e-5]\n"
          ]
        },
        {
          "output_type": "stream",
          "name": "stdout",
          "text": [
            "Train Loss: 6.330218908554824e-05, Validation Loss: 0.07793668215560956, Accuracy: 99.03703703703704%\n"
          ]
        },
        {
          "output_type": "stream",
          "name": "stderr",
          "text": [
            "Epoch 9: 100%|██████████| 85/85 [01:05<00:00,  1.29it/s, loss=1.94e-6]\n"
          ]
        },
        {
          "output_type": "stream",
          "name": "stdout",
          "text": [
            "Train Loss: 0.00013997505776548196, Validation Loss: 0.07403981915004594, Accuracy: 99.18518518518519%\n"
          ]
        },
        {
          "output_type": "stream",
          "name": "stderr",
          "text": [
            "Epoch 10: 100%|██████████| 85/85 [01:04<00:00,  1.32it/s, loss=3.3e-6]\n"
          ]
        },
        {
          "output_type": "stream",
          "name": "stdout",
          "text": [
            "Train Loss: 3.4044605251224046e-05, Validation Loss: 0.07407642549540454, Accuracy: 99.03703703703704%\n"
          ]
        },
        {
          "output_type": "stream",
          "name": "stderr",
          "text": [
            "Epoch 11: 100%|██████████| 85/85 [01:02<00:00,  1.36it/s, loss=4.65e-5]\n"
          ]
        },
        {
          "output_type": "stream",
          "name": "stdout",
          "text": [
            "Train Loss: 3.346527117320661e-05, Validation Loss: 0.07789537164892253, Accuracy: 99.11111111111111%\n"
          ]
        },
        {
          "output_type": "stream",
          "name": "stderr",
          "text": [
            "Epoch 12: 100%|██████████| 85/85 [01:01<00:00,  1.38it/s, loss=8.48e-6]\n"
          ]
        },
        {
          "output_type": "stream",
          "name": "stdout",
          "text": [
            "Train Loss: 8.548968062380963e-06, Validation Loss: 0.0774680103780399, Accuracy: 99.11111111111111%\n"
          ]
        },
        {
          "output_type": "stream",
          "name": "stderr",
          "text": [
            "Epoch 13: 100%|██████████| 85/85 [01:03<00:00,  1.34it/s, loss=1.08e-6]\n"
          ]
        },
        {
          "output_type": "stream",
          "name": "stdout",
          "text": [
            "Train Loss: 1.6652945930004267e-05, Validation Loss: 0.08082070469950767, Accuracy: 99.11111111111111%\n"
          ]
        },
        {
          "output_type": "stream",
          "name": "stderr",
          "text": [
            "Epoch 14: 100%|██████████| 85/85 [01:01<00:00,  1.38it/s, loss=6.13e-6]\n"
          ]
        },
        {
          "output_type": "stream",
          "name": "stdout",
          "text": [
            "Train Loss: 6.914012825251014e-06, Validation Loss: 0.08265067459558911, Accuracy: 99.11111111111111%\n"
          ]
        },
        {
          "output_type": "stream",
          "name": "stderr",
          "text": [
            "Epoch 15: 100%|██████████| 85/85 [01:01<00:00,  1.39it/s, loss=0.000142]\n"
          ]
        },
        {
          "output_type": "stream",
          "name": "stdout",
          "text": [
            "Train Loss: 8.403494116330823e-06, Validation Loss: 0.08100702353561412, Accuracy: 99.11111111111111%\n",
            "Loaders created\n",
            "Using the EfficientNet model\n",
            "Classifier for model has been changed.\n",
            "Transfer learning method: fine_tuning applied.\n",
            "Training starts\n",
            "Liczba zamrożonych parametrów: 4007548\n",
            "Liczba niezamrożonych parametrów: 2562\n"
          ]
        },
        {
          "output_type": "stream",
          "name": "stderr",
          "text": [
            "Epoch 1: 100%|██████████| 85/85 [01:10<00:00,  1.20it/s, loss=0.254]\n"
          ]
        },
        {
          "output_type": "stream",
          "name": "stdout",
          "text": [
            "Train Loss: 0.3944523013689939, Validation Loss: 0.2275002280419523, Accuracy: 95.4074074074074%\n"
          ]
        },
        {
          "output_type": "stream",
          "name": "stderr",
          "text": [
            "Epoch 2: 100%|██████████| 85/85 [00:32<00:00,  2.63it/s, loss=0.177]\n"
          ]
        },
        {
          "output_type": "stream",
          "name": "stdout",
          "text": [
            "Train Loss: 0.2350959897041321, Validation Loss: 0.1645593543282964, Accuracy: 95.62962962962963%\n"
          ]
        },
        {
          "output_type": "stream",
          "name": "stderr",
          "text": [
            "Epoch 3: 100%|██████████| 85/85 [00:33<00:00,  2.54it/s, loss=0.265]\n"
          ]
        },
        {
          "output_type": "stream",
          "name": "stdout",
          "text": [
            "Train Loss: 0.19340518362381878, Validation Loss: 0.13928519731218164, Accuracy: 96.07407407407408%\n"
          ]
        },
        {
          "output_type": "stream",
          "name": "stderr",
          "text": [
            "Epoch 4: 100%|██████████| 85/85 [00:33<00:00,  2.53it/s, loss=0.199]\n"
          ]
        },
        {
          "output_type": "stream",
          "name": "stdout",
          "text": [
            "Train Loss: 0.181386198804659, Validation Loss: 0.13346710403195836, Accuracy: 96.14814814814815%\n"
          ]
        },
        {
          "output_type": "stream",
          "name": "stderr",
          "text": [
            "Epoch 5: 100%|██████████| 85/85 [00:39<00:00,  2.14it/s, loss=0.252]\n"
          ]
        },
        {
          "output_type": "stream",
          "name": "stdout",
          "text": [
            "Train Loss: 0.16348365492680494, Validation Loss: 0.11490052718330514, Accuracy: 96.66666666666667%\n"
          ]
        },
        {
          "output_type": "stream",
          "name": "stderr",
          "text": [
            "Epoch 6: 100%|██████████| 85/85 [00:32<00:00,  2.63it/s, loss=0.116]\n"
          ]
        },
        {
          "output_type": "stream",
          "name": "stdout",
          "text": [
            "Train Loss: 0.1521578022662331, Validation Loss: 0.10781570202247663, Accuracy: 96.81481481481481%\n"
          ]
        },
        {
          "output_type": "stream",
          "name": "stderr",
          "text": [
            "Epoch 7: 100%|██████████| 85/85 [00:36<00:00,  2.34it/s, loss=0.0868]\n"
          ]
        },
        {
          "output_type": "stream",
          "name": "stdout",
          "text": [
            "Train Loss: 0.1422363141003777, Validation Loss: 0.1039895113049583, Accuracy: 96.96296296296296%\n"
          ]
        },
        {
          "output_type": "stream",
          "name": "stderr",
          "text": [
            "Epoch 8: 100%|██████████| 85/85 [00:32<00:00,  2.60it/s, loss=0.078]\n"
          ]
        },
        {
          "output_type": "stream",
          "name": "stdout",
          "text": [
            "Train Loss: 0.14131064029300913, Validation Loss: 0.10621663555502892, Accuracy: 96.81481481481481%\n"
          ]
        },
        {
          "output_type": "stream",
          "name": "stderr",
          "text": [
            "Epoch 9: 100%|██████████| 85/85 [00:32<00:00,  2.63it/s, loss=0.233]\n"
          ]
        },
        {
          "output_type": "stream",
          "name": "stdout",
          "text": [
            "Train Loss: 0.1356364698971019, Validation Loss: 0.09575823821466077, Accuracy: 96.96296296296296%\n"
          ]
        },
        {
          "output_type": "stream",
          "name": "stderr",
          "text": [
            "Epoch 10: 100%|██████████| 85/85 [00:40<00:00,  2.12it/s, loss=0.0988]\n"
          ]
        },
        {
          "output_type": "stream",
          "name": "stdout",
          "text": [
            "Train Loss: 0.13519243168480255, Validation Loss: 0.09453075662763281, Accuracy: 97.18518518518519%\n"
          ]
        },
        {
          "output_type": "stream",
          "name": "stderr",
          "text": [
            "Epoch 11: 100%|██████████| 85/85 [00:34<00:00,  2.48it/s, loss=0.168]\n"
          ]
        },
        {
          "output_type": "stream",
          "name": "stdout",
          "text": [
            "Train Loss: 0.1281405221013462, Validation Loss: 0.09075325998392972, Accuracy: 97.11111111111111%\n"
          ]
        },
        {
          "output_type": "stream",
          "name": "stderr",
          "text": [
            "Epoch 12: 100%|██████████| 85/85 [00:40<00:00,  2.10it/s, loss=0.229]\n"
          ]
        },
        {
          "output_type": "stream",
          "name": "stdout",
          "text": [
            "Train Loss: 0.13028278407805105, Validation Loss: 0.08543952148069035, Accuracy: 97.25925925925925%\n"
          ]
        },
        {
          "output_type": "stream",
          "name": "stderr",
          "text": [
            "Epoch 13: 100%|██████████| 85/85 [00:32<00:00,  2.61it/s, loss=0.09]\n"
          ]
        },
        {
          "output_type": "stream",
          "name": "stdout",
          "text": [
            "Train Loss: 0.11992392544360722, Validation Loss: 0.08543899955905297, Accuracy: 97.4074074074074%\n"
          ]
        },
        {
          "output_type": "stream",
          "name": "stderr",
          "text": [
            "Epoch 14: 100%|██████████| 85/85 [00:32<00:00,  2.61it/s, loss=0.0255]\n"
          ]
        },
        {
          "output_type": "stream",
          "name": "stdout",
          "text": [
            "Train Loss: 0.12754960336229382, Validation Loss: 0.08455084975470196, Accuracy: 97.48148148148148%\n"
          ]
        },
        {
          "output_type": "stream",
          "name": "stderr",
          "text": [
            "Epoch 15: 100%|██████████| 85/85 [00:36<00:00,  2.30it/s, loss=0.0967]\n"
          ]
        },
        {
          "output_type": "stream",
          "name": "stdout",
          "text": [
            "Train Loss: 0.11952528041951796, Validation Loss: 0.08465845539996569, Accuracy: 97.33333333333333%\n",
            "Fine tuning applied. Learning rate:  0.0001\n",
            "Liczba zamrożonych parametrów: 0\n",
            "Liczba niezamrożonych parametrów: 4010110\n"
          ]
        },
        {
          "output_type": "stream",
          "name": "stderr",
          "text": [
            "Epoch 1: 100%|██████████| 85/85 [00:41<00:00,  2.03it/s, loss=0.0272]\n"
          ]
        },
        {
          "output_type": "stream",
          "name": "stdout",
          "text": [
            "Train Loss: 0.0684633537688676, Validation Loss: 0.013936317857852291, Accuracy: 99.70370370370371%\n"
          ]
        },
        {
          "output_type": "stream",
          "name": "stderr",
          "text": [
            "Epoch 2: 100%|██████████| 85/85 [00:47<00:00,  1.77it/s, loss=0.0102]\n"
          ]
        },
        {
          "output_type": "stream",
          "name": "stdout",
          "text": [
            "Train Loss: 0.01590230888002278, Validation Loss: 0.0156350363057837, Accuracy: 99.62962962962963%\n"
          ]
        },
        {
          "output_type": "stream",
          "name": "stderr",
          "text": [
            "Epoch 3: 100%|██████████| 85/85 [00:41<00:00,  2.07it/s, loss=0.000838]\n"
          ]
        },
        {
          "output_type": "stream",
          "name": "stdout",
          "text": [
            "Train Loss: 0.00560433963615009, Validation Loss: 0.012684129505859428, Accuracy: 99.70370370370371%\n"
          ]
        },
        {
          "output_type": "stream",
          "name": "stderr",
          "text": [
            "Epoch 4: 100%|██████████| 85/85 [00:48<00:00,  1.76it/s, loss=0.00501]\n"
          ]
        },
        {
          "output_type": "stream",
          "name": "stdout",
          "text": [
            "Train Loss: 0.005693290614255923, Validation Loss: 0.011872722803962626, Accuracy: 99.70370370370371%\n"
          ]
        },
        {
          "output_type": "stream",
          "name": "stderr",
          "text": [
            "Epoch 5: 100%|██████████| 85/85 [00:42<00:00,  2.00it/s, loss=6.84e-5]\n"
          ]
        },
        {
          "output_type": "stream",
          "name": "stdout",
          "text": [
            "Train Loss: 0.0037583987050525407, Validation Loss: 0.011916230485873959, Accuracy: 99.70370370370371%\n"
          ]
        },
        {
          "output_type": "stream",
          "name": "stderr",
          "text": [
            "Epoch 6: 100%|██████████| 85/85 [00:48<00:00,  1.75it/s, loss=0.00109]\n"
          ]
        },
        {
          "output_type": "stream",
          "name": "stdout",
          "text": [
            "Train Loss: 0.0042304709131713025, Validation Loss: 0.01281234677185239, Accuracy: 99.70370370370371%\n"
          ]
        },
        {
          "output_type": "stream",
          "name": "stderr",
          "text": [
            "Epoch 7: 100%|██████████| 85/85 [00:47<00:00,  1.80it/s, loss=0.00141]\n"
          ]
        },
        {
          "output_type": "stream",
          "name": "stdout",
          "text": [
            "Train Loss: 0.0031962401112918194, Validation Loss: 0.012651829431454396, Accuracy: 99.70370370370371%\n"
          ]
        },
        {
          "output_type": "stream",
          "name": "stderr",
          "text": [
            "Epoch 8: 100%|██████████| 85/85 [00:41<00:00,  2.05it/s, loss=0.000487]\n"
          ]
        },
        {
          "output_type": "stream",
          "name": "stdout",
          "text": [
            "Train Loss: 0.0031405750517425235, Validation Loss: 0.010891199660942551, Accuracy: 99.77777777777777%\n"
          ]
        },
        {
          "output_type": "stream",
          "name": "stderr",
          "text": [
            "Epoch 9: 100%|██████████| 85/85 [00:45<00:00,  1.86it/s, loss=0.000406]\n"
          ]
        },
        {
          "output_type": "stream",
          "name": "stdout",
          "text": [
            "Train Loss: 0.002393641367170323, Validation Loss: 0.008557552695740676, Accuracy: 99.85185185185185%\n"
          ]
        },
        {
          "output_type": "stream",
          "name": "stderr",
          "text": [
            "Epoch 10: 100%|██████████| 85/85 [00:41<00:00,  2.07it/s, loss=7.81e-6]\n"
          ]
        },
        {
          "output_type": "stream",
          "name": "stdout",
          "text": [
            "Train Loss: 0.0011794797984882334, Validation Loss: 0.010810974604613544, Accuracy: 99.77777777777777%\n"
          ]
        },
        {
          "output_type": "stream",
          "name": "stderr",
          "text": [
            "Epoch 11: 100%|██████████| 85/85 [00:42<00:00,  1.98it/s, loss=9.48e-5]\n"
          ]
        },
        {
          "output_type": "stream",
          "name": "stdout",
          "text": [
            "Train Loss: 0.0011727527824940112, Validation Loss: 0.010527807916032956, Accuracy: 99.77777777777777%\n"
          ]
        },
        {
          "output_type": "stream",
          "name": "stderr",
          "text": [
            "Epoch 12: 100%|██████████| 85/85 [00:41<00:00,  2.04it/s, loss=5.12e-6]\n"
          ]
        },
        {
          "output_type": "stream",
          "name": "stdout",
          "text": [
            "Train Loss: 0.0005093402244282889, Validation Loss: 0.011592058950518756, Accuracy: 99.77777777777777%\n"
          ]
        },
        {
          "output_type": "stream",
          "name": "stderr",
          "text": [
            "Epoch 13: 100%|██████████| 85/85 [00:43<00:00,  1.97it/s, loss=8.68e-5]\n"
          ]
        },
        {
          "output_type": "stream",
          "name": "stdout",
          "text": [
            "Train Loss: 0.0008008160291811852, Validation Loss: 0.010693033263392366, Accuracy: 99.77777777777777%\n"
          ]
        },
        {
          "output_type": "stream",
          "name": "stderr",
          "text": [
            "Epoch 14: 100%|██████████| 85/85 [00:40<00:00,  2.12it/s, loss=9.22e-5]\n"
          ]
        },
        {
          "output_type": "stream",
          "name": "stdout",
          "text": [
            "Train Loss: 0.001357198058421465, Validation Loss: 0.010024058977178769, Accuracy: 99.77777777777777%\n"
          ]
        },
        {
          "output_type": "stream",
          "name": "stderr",
          "text": [
            "Epoch 15: 100%|██████████| 85/85 [00:41<00:00,  2.05it/s, loss=1.06e-5]\n"
          ]
        },
        {
          "output_type": "stream",
          "name": "stdout",
          "text": [
            "Train Loss: 0.0007552334830132381, Validation Loss: 0.010397229292591832, Accuracy: 99.77777777777777%\n"
          ]
        }
      ],
      "source": [
        "# Import PrettyTable to store training history\n",
        "from prettytable import PrettyTable\n",
        "# Set up the device\n",
        "device = torch.device(\"cuda\" if torch.cuda.is_available() else \"cpu\")\n",
        "#device = torch.device(\"cpu\")\n",
        "print(f\"Using: {device}\")\n",
        "\n",
        "def train_and_evaluate(model, train_loader, test_loader, criterion, optimizer, epochs, tl_method):\n",
        "    \"\"\"Train and evaluate the model.\"\"\"\n",
        "\n",
        "    history = {\n",
        "        'train_loss': [],\n",
        "        'val_loss': [],\n",
        "        'train_accuracy': [],\n",
        "        'val_accuracy': []\n",
        "    }\n",
        "\n",
        "    print_number_of_frozen_params(model)\n",
        "\n",
        "    for epoch in range(epochs):\n",
        "        model.train()\n",
        "        running_loss = 0.0\n",
        "        correct_train, total_train = 0, 0\n",
        "\n",
        "        with tqdm(train_loader, desc=f\"Epoch {epoch + 1}\") as tepoch:\n",
        "            for images, labels in tepoch:\n",
        "                images, labels = images.to(device), labels.to(device)\n",
        "\n",
        "                optimizer.zero_grad()\n",
        "                outputs = model(images)\n",
        "                loss = criterion(outputs, labels)\n",
        "                loss.backward()\n",
        "                optimizer.step()\n",
        "\n",
        "                running_loss += loss.item()\n",
        "                _, predicted = torch.max(outputs.data, 1)\n",
        "                total_train += labels.size(0)\n",
        "                correct_train += (predicted == labels).sum().item()\n",
        "\n",
        "                tepoch.set_postfix(loss=loss.item())\n",
        "\n",
        "        train_accuracy = 100 * correct_train / total_train\n",
        "        val_loss, val_accuracy = evaluate_model(model, test_loader, criterion, running_loss)\n",
        "\n",
        "        history['train_loss'].append(running_loss / len(train_loader))\n",
        "        history['train_accuracy'].append(train_accuracy)\n",
        "        history['val_loss'].append(val_loss)\n",
        "        history['val_accuracy'].append(val_accuracy)\n",
        "\n",
        "    if tl_method == 'fine_tuning' or tl_method == 'our_method':\n",
        "        adjust_fine_tuning(model, optimizer)\n",
        "        print(\"Fine tuning applied. Learning rate: \", optimizer.param_groups[0]['lr'])\n",
        "        tl_method = 'none'\n",
        "        fine_tuning_history = train_and_evaluate(model, train_loader, test_loader, criterion, optimizer, epochs, tl_method)\n",
        "        history = {key: history[key] + fine_tuning_history[key] for key in history}\n",
        "\n",
        "    elif tl_method == 'classic_tl' or tl_method == 'no_freezing':\n",
        "        print(\"Second phase started. Learning rate: \", optimizer.param_groups[0]['lr'])\n",
        "        tl_method = 'none'\n",
        "        fine_tuning_history = train_and_evaluate(model, train_loader, test_loader, criterion, optimizer, epochs, tl_method)\n",
        "        history = {key: history[key] + fine_tuning_history[key] for key in history}\n",
        "\n",
        "    return history\n",
        "\n",
        "\n",
        "def evaluate_model(model, test_loader, criterion, running_loss):\n",
        "    \"\"\"Evaluate the model and adjust learning rate if fine-tuning.\"\"\"\n",
        "    model.eval()\n",
        "    val_loss, correct_val, total_val = 0.0, 0, 0\n",
        "\n",
        "    with torch.no_grad():\n",
        "        for images, labels in test_loader:\n",
        "            images, labels = images.to(device), labels.to(device)\n",
        "            outputs = model(images)\n",
        "            loss = criterion(outputs, labels)\n",
        "            val_loss += loss.item()\n",
        "            _, predicted = torch.max(outputs.data, 1)\n",
        "            total_val += labels.size(0)\n",
        "            correct_val += (predicted == labels).sum().item()\n",
        "\n",
        "    avg_val_loss = val_loss / len(test_loader)\n",
        "    val_accuracy = 100 * correct_val / total_val\n",
        "\n",
        "    print(f'Train Loss: {running_loss/len(train_loader)}, '\n",
        "          f'Validation Loss: {val_loss/len(test_loader)}, '\n",
        "          f'Accuracy: {100 * correct_val / total_val}%')\n",
        "\n",
        "    return avg_val_loss, val_accuracy\n",
        "\n",
        "# Create the table for metrics\n",
        "table = PrettyTable()\n",
        "table.field_names = [\"Dataset\", \"Transfer Learning Method\", \"Model\", \"Train Loss\", \"Validation Loss\", \"Train Accuracy\", \"Validation Accuracy\"]\n",
        "file_path = \"/content/drive/MyDrive/glebokie/dataset/learning_histories_other.txt\"\n",
        "\n",
        "\n",
        "# Main loop\n",
        "learning_histories = []\n",
        "\n",
        "for id_dataset, dataset in enumerate(DATASETS):\n",
        "    print(f\"Using the {dataset} dataset.\")\n",
        "\n",
        "    for id_tl_method, tl_method in enumerate(TL_METHODS):\n",
        "        print(f\"Using the {tl_method} method\")\n",
        "\n",
        "        for id_model, model in enumerate(MODELS):\n",
        "            if (dataset == \"dogs-vs-cats\" and tl_method == \"classic_tl\" and model.__class__.__name__ == \"VGG\")\\\n",
        "            or (dataset == \"dogs-vs-cats\" and tl_method == \"classic_tl\" and model.__class__.__name__ == \"ResNet\"):\n",
        "                print(\"Skipping redundancy\")\n",
        "                continue\n",
        "\n",
        "            classes, train_loader, test_loader = create_datasets_and_dataloaders(dataset, model=model)\n",
        "            num_classes = len(classes)\n",
        "\n",
        "            print(f\"Using the {model.__class__.__name__} model\")\n",
        "            model = customize_model(model, num_classes, tl_method)\n",
        "            criterion = nn.CrossEntropyLoss()\n",
        "            optimizer = optim.Adam(model.parameters(), lr=0.001)\n",
        "            model.to(device)\n",
        "\n",
        "            print(\"Training starts\")\n",
        "            history = train_and_evaluate(model, train_loader, test_loader, criterion, optimizer, EPOCHS, tl_method)\n",
        "            learning_histories.append(history)\n",
        "\n",
        "            add_row_to_table_and_save(table, dataset, tl_method, model, history, file_path)\n",
        "            save_path = f\"/content/drive/MyDrive/glebokie/dataset/{dataset}_{tl_method}_{model.__class__.__name__}.png\"\n",
        "            plot_and_save_figures(history, dataset, tl_method, model, save_path)\n",
        "\n"
      ]
    }
  ],
  "metadata": {
    "accelerator": "GPU",
    "colab": {
      "provenance": []
    },
    "kernelspec": {
      "display_name": "Python 3",
      "name": "python3"
    },
    "language_info": {
      "codemirror_mode": {
        "name": "ipython",
        "version": 3
      },
      "file_extension": ".py",
      "mimetype": "text/x-python",
      "name": "python",
      "nbconvert_exporter": "python",
      "pygments_lexer": "ipython3",
      "version": "3.11.5"
    }
  },
  "nbformat": 4,
  "nbformat_minor": 0
}